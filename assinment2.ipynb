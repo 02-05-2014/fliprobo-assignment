{
 "cells": [
  {
   "cell_type": "markdown",
   "id": "dbb289e3",
   "metadata": {},
   "source": [
    " # Assignment 2\n",
    "\n",
    "# Q1: Write a python program to scrape data for “Data Analyst” Job position in “Bangalore” location. \n",
    "    # You have to scrape the job-title, job-location, company_name, experience_required. \n",
    "    # You have to scrape first 10 jobs data.\n"
   ]
  },
  {
   "cell_type": "code",
   "execution_count": 1,
   "id": "1508ca00",
   "metadata": {},
   "outputs": [
    {
     "name": "stdout",
     "output_type": "stream",
     "text": [
      "Requirement already satisfied: selenium in c:\\users\\asus\\anaconda3\\lib\\site-packages (4.5.0)\n",
      "Requirement already satisfied: trio-websocket~=0.9 in c:\\users\\asus\\anaconda3\\lib\\site-packages (from selenium) (0.9.2)\n",
      "Requirement already satisfied: urllib3[socks]~=1.26 in c:\\users\\asus\\anaconda3\\lib\\site-packages (from selenium) (1.26.9)\n",
      "Requirement already satisfied: certifi>=2021.10.8 in c:\\users\\asus\\anaconda3\\lib\\site-packages (from selenium) (2021.10.8)\n",
      "Requirement already satisfied: trio~=0.17 in c:\\users\\asus\\anaconda3\\lib\\site-packages (from selenium) (0.22.0)\n",
      "Requirement already satisfied: cffi>=1.14 in c:\\users\\asus\\anaconda3\\lib\\site-packages (from trio~=0.17->selenium) (1.15.0)\n",
      "Requirement already satisfied: outcome in c:\\users\\asus\\anaconda3\\lib\\site-packages (from trio~=0.17->selenium) (1.2.0)\n",
      "Requirement already satisfied: idna in c:\\users\\asus\\anaconda3\\lib\\site-packages (from trio~=0.17->selenium) (3.3)\n",
      "Requirement already satisfied: attrs>=19.2.0 in c:\\users\\asus\\anaconda3\\lib\\site-packages (from trio~=0.17->selenium) (21.4.0)\n",
      "Requirement already satisfied: async-generator>=1.9 in c:\\users\\asus\\anaconda3\\lib\\site-packages (from trio~=0.17->selenium) (1.10)\n",
      "Requirement already satisfied: exceptiongroup>=1.0.0rc9 in c:\\users\\asus\\anaconda3\\lib\\site-packages (from trio~=0.17->selenium) (1.0.0)\n",
      "Requirement already satisfied: sortedcontainers in c:\\users\\asus\\anaconda3\\lib\\site-packages (from trio~=0.17->selenium) (2.4.0)\n",
      "Requirement already satisfied: sniffio in c:\\users\\asus\\anaconda3\\lib\\site-packages (from trio~=0.17->selenium) (1.2.0)\n",
      "Requirement already satisfied: pycparser in c:\\users\\asus\\anaconda3\\lib\\site-packages (from cffi>=1.14->trio~=0.17->selenium) (2.21)\n",
      "Requirement already satisfied: wsproto>=0.14 in c:\\users\\asus\\anaconda3\\lib\\site-packages (from trio-websocket~=0.9->selenium) (1.2.0)\n",
      "Requirement already satisfied: PySocks!=1.5.7,<2.0,>=1.5.6 in c:\\users\\asus\\anaconda3\\lib\\site-packages (from urllib3[socks]~=1.26->selenium) (1.7.1)\n",
      "Requirement already satisfied: h11<1,>=0.9.0 in c:\\users\\asus\\anaconda3\\lib\\site-packages (from wsproto>=0.14->trio-websocket~=0.9->selenium) (0.14.0)\n"
     ]
    }
   ],
   "source": [
    "!pip install selenium"
   ]
  },
  {
   "cell_type": "code",
   "execution_count": 1,
   "id": "f7870903",
   "metadata": {},
   "outputs": [],
   "source": [
    "#importing important libraries\n",
    "import selenium\n",
    "from selenium import webdriver\n",
    "import pandas as pd\n",
    "from selenium.webdriver.common.by import By\n",
    "import warnings\n",
    "warnings.filterwarnings(\"ignore\")\n",
    "import time"
   ]
  },
  {
   "cell_type": "code",
   "execution_count": 50,
   "id": "87085899",
   "metadata": {},
   "outputs": [],
   "source": [
    "#connecting to web drivers\n",
    "driver = webdriver.Chrome(r'C:\\Users\\ASUS\\Downloads\\chromedriver_win32\\chromedriver.exe')"
   ]
  },
  {
   "cell_type": "code",
   "execution_count": 4,
   "id": "a70422c9",
   "metadata": {},
   "outputs": [],
   "source": [
    "#maximizing automated windows\n",
    "driver.maximize_window()"
   ]
  },
  {
   "cell_type": "code",
   "execution_count": 25,
   "id": "6f3b9feb",
   "metadata": {},
   "outputs": [],
   "source": [
    "#connecting to webdriver by another method\n",
    "driver = webdriver.Chrome('chromedriver.exe')"
   ]
  },
  {
   "cell_type": "code",
   "execution_count": 7,
   "id": "65c1f0c2",
   "metadata": {},
   "outputs": [],
   "source": [
    "#opening website in automated chrome window\n",
    "url = 'https://www.naukri.com/'\n",
    "driver.get(url)"
   ]
  },
  {
   "cell_type": "code",
   "execution_count": 8,
   "id": "ea2bf3dc",
   "metadata": {},
   "outputs": [],
   "source": [
    "#finding web element for search job bar\n",
    "search_job = driver.find_element(By.CLASS_NAME,\"suggestor-input\")\n",
    "search_job.send_keys(\"Data Analyst\")"
   ]
  },
  {
   "cell_type": "code",
   "execution_count": 9,
   "id": "0a86c67d",
   "metadata": {},
   "outputs": [],
   "source": [
    "#finding web element for search location using absolute xpath\n",
    "search_locn = driver.find_element(By.XPATH,'//html/body/div[1]/div[6]/div/div/div[5]/div/div/div[1]/input')\n",
    "search_locn.send_keys(\"Bangalore\")"
   ]
  },
  {
   "cell_type": "code",
   "execution_count": 10,
   "id": "4d05d332",
   "metadata": {},
   "outputs": [],
   "source": [
    "#clicking using absolute xpath function\n",
    "search_btn =driver.find_element(By.CLASS_NAME,\"qsbSubmit\")\n",
    "search_btn.click()"
   ]
  },
  {
   "cell_type": "markdown",
   "id": "206e1ff8",
   "metadata": {},
   "source": [
    "#Extracting job titles\n"
   ]
  },
  {
   "cell_type": "code",
   "execution_count": 14,
   "id": "d6f260de",
   "metadata": {},
   "outputs": [
    {
     "data": {
      "text/plain": [
       "20"
      ]
     },
     "execution_count": 14,
     "metadata": {},
     "output_type": "execute_result"
    }
   ],
   "source": [
    "#extracting all the web elements containing job titles\n",
    "job_titles =[]\n",
    "title_tags = driver.find_elements(By.XPATH,\"//a[@ class='title fw500 ellipsis']\" )\n",
    "for i in title_tags :\n",
    "    job_titles.append(i.text)\n",
    "len(job_titles)    "
   ]
  },
  {
   "cell_type": "code",
   "execution_count": 18,
   "id": "af8707f9",
   "metadata": {},
   "outputs": [
    {
     "data": {
      "text/plain": [
       "20"
      ]
     },
     "execution_count": 18,
     "metadata": {},
     "output_type": "execute_result"
    }
   ],
   "source": [
    "#extracting all the web elements containing location\n",
    "location =[]\n",
    "loctn_tags = driver.find_elements(By.XPATH,'//li[@class=\"fleft grey-text br2 placeHolderLi location\"]')\n",
    "for i in loctn_tags :\n",
    "    location.append(i.text)\n",
    "len(location)    "
   ]
  },
  {
   "cell_type": "code",
   "execution_count": 20,
   "id": "c43a6170",
   "metadata": {},
   "outputs": [
    {
     "data": {
      "text/plain": [
       "20"
      ]
     },
     "execution_count": 20,
     "metadata": {},
     "output_type": "execute_result"
    }
   ],
   "source": [
    "#extracting all the web elements containing company names\n",
    "company_names =[]\n",
    "company_tags = driver.find_elements(By.XPATH,'//a[@class=\"title fw500 ellipsis\"]')\n",
    "for i in company_tags:\n",
    "    company_names.append(i.text)\n",
    "len(company_names)    "
   ]
  },
  {
   "cell_type": "code",
   "execution_count": 22,
   "id": "61c526bc",
   "metadata": {},
   "outputs": [
    {
     "data": {
      "text/plain": [
       "20"
      ]
     },
     "execution_count": 22,
     "metadata": {},
     "output_type": "execute_result"
    }
   ],
   "source": [
    "#extracting all the web elements containing experience\n",
    "experience= []\n",
    "exp_tags = driver.find_elements(By.XPATH,'//span[@class=\"ellipsis fleft fs12 lh16 expwdth\"]')\n",
    "for i in exp_tags :\n",
    "    experience.append(i.text)\n",
    "len(experience)    "
   ]
  },
  {
   "cell_type": "code",
   "execution_count": 24,
   "id": "87813304",
   "metadata": {},
   "outputs": [
    {
     "data": {
      "text/html": [
       "<div>\n",
       "<style scoped>\n",
       "    .dataframe tbody tr th:only-of-type {\n",
       "        vertical-align: middle;\n",
       "    }\n",
       "\n",
       "    .dataframe tbody tr th {\n",
       "        vertical-align: top;\n",
       "    }\n",
       "\n",
       "    .dataframe thead th {\n",
       "        text-align: right;\n",
       "    }\n",
       "</style>\n",
       "<table border=\"1\" class=\"dataframe\">\n",
       "  <thead>\n",
       "    <tr style=\"text-align: right;\">\n",
       "      <th></th>\n",
       "      <th>Job Title</th>\n",
       "      <th>Company Names</th>\n",
       "      <th>Experience</th>\n",
       "      <th>Location</th>\n",
       "    </tr>\n",
       "  </thead>\n",
       "  <tbody>\n",
       "    <tr>\n",
       "      <th>0</th>\n",
       "      <td>Lead Data Analyst</td>\n",
       "      <td>Lead Data Analyst</td>\n",
       "      <td>4-7 Yrs</td>\n",
       "      <td>Bangalore/Bengaluru</td>\n",
       "    </tr>\n",
       "    <tr>\n",
       "      <th>1</th>\n",
       "      <td>Sr. Data Analyst (SAS Data Management)</td>\n",
       "      <td>Sr. Data Analyst (SAS Data Management)</td>\n",
       "      <td>5-10 Yrs</td>\n",
       "      <td>Bangalore/Bengaluru, New Delhi</td>\n",
       "    </tr>\n",
       "    <tr>\n",
       "      <th>2</th>\n",
       "      <td>Data Analyst - Consumer Analytics</td>\n",
       "      <td>Data Analyst - Consumer Analytics</td>\n",
       "      <td>2-4 Yrs</td>\n",
       "      <td>Bangalore/Bengaluru</td>\n",
       "    </tr>\n",
       "    <tr>\n",
       "      <th>3</th>\n",
       "      <td>Assistant Manager - Data Analyst</td>\n",
       "      <td>Assistant Manager - Data Analyst</td>\n",
       "      <td>3-6 Yrs</td>\n",
       "      <td>Bangalore/Bengaluru</td>\n",
       "    </tr>\n",
       "    <tr>\n",
       "      <th>4</th>\n",
       "      <td>Manager - Data Analyst - KPO</td>\n",
       "      <td>Manager - Data Analyst - KPO</td>\n",
       "      <td>5-9 Yrs</td>\n",
       "      <td>Bangalore/Bengaluru</td>\n",
       "    </tr>\n",
       "    <tr>\n",
       "      <th>5</th>\n",
       "      <td>Manager - Data Analyst - KPO</td>\n",
       "      <td>Manager - Data Analyst - KPO</td>\n",
       "      <td>3-8 Yrs</td>\n",
       "      <td>Bangalore/Bengaluru, Gurgaon/Gurugram</td>\n",
       "    </tr>\n",
       "    <tr>\n",
       "      <th>6</th>\n",
       "      <td>Data Analyst - Python</td>\n",
       "      <td>Data Analyst - Python</td>\n",
       "      <td>4-9 Yrs</td>\n",
       "      <td>Bangalore/Bengaluru, Gurgaon/Gurugram</td>\n",
       "    </tr>\n",
       "    <tr>\n",
       "      <th>7</th>\n",
       "      <td>Manager - Data Analyst - KPO</td>\n",
       "      <td>Manager - Data Analyst - KPO</td>\n",
       "      <td>2-7 Yrs</td>\n",
       "      <td>Bangalore/Bengaluru, Gurgaon/Gurugram</td>\n",
       "    </tr>\n",
       "    <tr>\n",
       "      <th>8</th>\n",
       "      <td>Data Analyst</td>\n",
       "      <td>Data Analyst</td>\n",
       "      <td>1-3 Yrs</td>\n",
       "      <td>Bangalore/Bengaluru</td>\n",
       "    </tr>\n",
       "    <tr>\n",
       "      <th>9</th>\n",
       "      <td>Data Analyst/ Sr Data Analyst (For an Agro-tec...</td>\n",
       "      <td>Data Analyst/ Sr Data Analyst (For an Agro-tec...</td>\n",
       "      <td>5-10 Yrs</td>\n",
       "      <td>Bangalore/Bengaluru</td>\n",
       "    </tr>\n",
       "  </tbody>\n",
       "</table>\n",
       "</div>"
      ],
      "text/plain": [
       "                                           Job Title  \\\n",
       "0                                  Lead Data Analyst   \n",
       "1             Sr. Data Analyst (SAS Data Management)   \n",
       "2                  Data Analyst - Consumer Analytics   \n",
       "3                   Assistant Manager - Data Analyst   \n",
       "4                       Manager - Data Analyst - KPO   \n",
       "5                       Manager - Data Analyst - KPO   \n",
       "6                              Data Analyst - Python   \n",
       "7                       Manager - Data Analyst - KPO   \n",
       "8                                       Data Analyst   \n",
       "9  Data Analyst/ Sr Data Analyst (For an Agro-tec...   \n",
       "\n",
       "                                       Company Names Experience  \\\n",
       "0                                  Lead Data Analyst    4-7 Yrs   \n",
       "1             Sr. Data Analyst (SAS Data Management)   5-10 Yrs   \n",
       "2                  Data Analyst - Consumer Analytics    2-4 Yrs   \n",
       "3                   Assistant Manager - Data Analyst    3-6 Yrs   \n",
       "4                       Manager - Data Analyst - KPO    5-9 Yrs   \n",
       "5                       Manager - Data Analyst - KPO    3-8 Yrs   \n",
       "6                              Data Analyst - Python    4-9 Yrs   \n",
       "7                       Manager - Data Analyst - KPO    2-7 Yrs   \n",
       "8                                       Data Analyst    1-3 Yrs   \n",
       "9  Data Analyst/ Sr Data Analyst (For an Agro-tec...   5-10 Yrs   \n",
       "\n",
       "                                Location  \n",
       "0                    Bangalore/Bengaluru  \n",
       "1         Bangalore/Bengaluru, New Delhi  \n",
       "2                    Bangalore/Bengaluru  \n",
       "3                    Bangalore/Bengaluru  \n",
       "4                    Bangalore/Bengaluru  \n",
       "5  Bangalore/Bengaluru, Gurgaon/Gurugram  \n",
       "6  Bangalore/Bengaluru, Gurgaon/Gurugram  \n",
       "7  Bangalore/Bengaluru, Gurgaon/Gurugram  \n",
       "8                    Bangalore/Bengaluru  \n",
       "9                    Bangalore/Bengaluru  "
      ]
     },
     "execution_count": 24,
     "metadata": {},
     "output_type": "execute_result"
    }
   ],
   "source": [
    "#now let's create a dataframe for first 10 scrapped data \n",
    "jobs = pd.DataFrame()\n",
    "jobs['Job Title'] = job_titles[0:10]\n",
    "jobs['Company Names'] = company_names[0:10]\n",
    "jobs['Experience']=experience[0:10]\n",
    "jobs['Location'] = location[0:10]\n",
    "jobs"
   ]
  },
  {
   "cell_type": "markdown",
   "id": "07f21030",
   "metadata": {},
   "source": [
    "# #Q2: Write a python program to scrape data for “Data Scientist” Job position in “Bangalore” location. \n",
    "#You have to scrape the job-title, job-location, company_name. You have to scrape first 10 jobs data. "
   ]
  },
  {
   "cell_type": "code",
   "execution_count": 3,
   "id": "f40dc9d8",
   "metadata": {},
   "outputs": [],
   "source": [
    "#connecting to web drivers\n",
    "driver = webdriver.Chrome(r'C:\\Users\\ASUS\\Downloads\\chromedriver_win32\\chromedriver.exe')"
   ]
  },
  {
   "cell_type": "code",
   "execution_count": 4,
   "id": "2e48a89e",
   "metadata": {},
   "outputs": [],
   "source": [
    "#opening website in automated chrome window\n",
    "url = 'https://www.naukri.com/'\n",
    "driver.get(url)"
   ]
  },
  {
   "cell_type": "code",
   "execution_count": 26,
   "id": "298492e5",
   "metadata": {},
   "outputs": [],
   "source": [
    "#finding web element for search job bar\n",
    "search_job = driver.find_element(By.CLASS_NAME,\"suggestor-input\")\n",
    "search_job.send_keys(\"Data Scientist\")"
   ]
  },
  {
   "cell_type": "code",
   "execution_count": 27,
   "id": "a9e91b6a",
   "metadata": {},
   "outputs": [],
   "source": [
    "#finding web element for search location using absolute xpath\n",
    "search_locn = driver.find_element(By.XPATH,'//html/body/div[1]/div[6]/div/div/div[5]/div/div/div[1]/input')\n",
    "search_locn.send_keys(\"Bangalore\")"
   ]
  },
  {
   "cell_type": "code",
   "execution_count": 28,
   "id": "e292d044",
   "metadata": {},
   "outputs": [],
   "source": [
    "#clicking using absolute xpath function\n",
    "search_btn =driver.find_element(By.CLASS_NAME,\"qsbSubmit\")\n",
    "search_btn.click()"
   ]
  },
  {
   "cell_type": "markdown",
   "id": "7b965d77",
   "metadata": {},
   "source": [
    "# extracting job titles"
   ]
  },
  {
   "cell_type": "code",
   "execution_count": 29,
   "id": "93928a70",
   "metadata": {},
   "outputs": [
    {
     "data": {
      "text/plain": [
       "20"
      ]
     },
     "execution_count": 29,
     "metadata": {},
     "output_type": "execute_result"
    }
   ],
   "source": [
    "#extracting all the web elements containing job titles\n",
    "job_titles =[]\n",
    "title_tags = driver.find_elements(By.XPATH,\"//a[@ class='title fw500 ellipsis']\" )\n",
    "for i in title_tags :\n",
    "    job_titles.append(i.text)\n",
    "len(job_titles)    "
   ]
  },
  {
   "cell_type": "code",
   "execution_count": 30,
   "id": "4ea86a9b",
   "metadata": {},
   "outputs": [
    {
     "data": {
      "text/plain": [
       "20"
      ]
     },
     "execution_count": 30,
     "metadata": {},
     "output_type": "execute_result"
    }
   ],
   "source": [
    "#extracting all the web elements containing location\n",
    "location =[]\n",
    "loctn_tags = driver.find_elements(By.XPATH,'//li[@class=\"fleft grey-text br2 placeHolderLi location\"]')\n",
    "for i in loctn_tags :\n",
    "    location.append(i.text)\n",
    "len(location)    "
   ]
  },
  {
   "cell_type": "code",
   "execution_count": 31,
   "id": "2ef5535e",
   "metadata": {},
   "outputs": [
    {
     "data": {
      "text/plain": [
       "20"
      ]
     },
     "execution_count": 31,
     "metadata": {},
     "output_type": "execute_result"
    }
   ],
   "source": [
    "#extracting all the web elements containing company names\n",
    "company_names =[]\n",
    "company_tags = driver.find_elements(By.XPATH,'//a[@class=\"title fw500 ellipsis\"]')\n",
    "for i in company_tags:\n",
    "    company_names.append(i.text)\n",
    "len(company_names)    "
   ]
  },
  {
   "cell_type": "code",
   "execution_count": 32,
   "id": "d7970b6f",
   "metadata": {},
   "outputs": [
    {
     "data": {
      "text/html": [
       "<div>\n",
       "<style scoped>\n",
       "    .dataframe tbody tr th:only-of-type {\n",
       "        vertical-align: middle;\n",
       "    }\n",
       "\n",
       "    .dataframe tbody tr th {\n",
       "        vertical-align: top;\n",
       "    }\n",
       "\n",
       "    .dataframe thead th {\n",
       "        text-align: right;\n",
       "    }\n",
       "</style>\n",
       "<table border=\"1\" class=\"dataframe\">\n",
       "  <thead>\n",
       "    <tr style=\"text-align: right;\">\n",
       "      <th></th>\n",
       "      <th>Job Title</th>\n",
       "      <th>Company Names</th>\n",
       "      <th>Location</th>\n",
       "    </tr>\n",
       "  </thead>\n",
       "  <tbody>\n",
       "    <tr>\n",
       "      <th>0</th>\n",
       "      <td>Analystics &amp; Modeling Specialist</td>\n",
       "      <td>Analystics &amp; Modeling Specialist</td>\n",
       "      <td>Bangalore/Bengaluru, Kolkata, Mumbai, Hyderaba...</td>\n",
       "    </tr>\n",
       "    <tr>\n",
       "      <th>1</th>\n",
       "      <td>Senior Data Scientist</td>\n",
       "      <td>Senior Data Scientist</td>\n",
       "      <td>Hybrid - Bangalore/Bengaluru, Pune, Chennai</td>\n",
       "    </tr>\n",
       "    <tr>\n",
       "      <th>2</th>\n",
       "      <td>Data Scientist - Looking For Immediate Joiners</td>\n",
       "      <td>Data Scientist - Looking For Immediate Joiners</td>\n",
       "      <td>Hybrid - Bangalore/Bengaluru, Hyderabad/Secund...</td>\n",
       "    </tr>\n",
       "    <tr>\n",
       "      <th>3</th>\n",
       "      <td>Assistant Manager - Data Science</td>\n",
       "      <td>Assistant Manager - Data Science</td>\n",
       "      <td>Hybrid - Bangalore/Bengaluru, Mumbai, Pune</td>\n",
       "    </tr>\n",
       "    <tr>\n",
       "      <th>4</th>\n",
       "      <td>Data Scientist</td>\n",
       "      <td>Data Scientist</td>\n",
       "      <td>Bangalore/Bengaluru, Hyderabad/Secunderabad, P...</td>\n",
       "    </tr>\n",
       "    <tr>\n",
       "      <th>5</th>\n",
       "      <td>Data Scientist - 2</td>\n",
       "      <td>Data Scientist - 2</td>\n",
       "      <td>Bangalore/Bengaluru</td>\n",
       "    </tr>\n",
       "    <tr>\n",
       "      <th>6</th>\n",
       "      <td>Data Scientist</td>\n",
       "      <td>Data Scientist</td>\n",
       "      <td>Bangalore/Bengaluru, Noida, Hyderabad/Secunder...</td>\n",
       "    </tr>\n",
       "    <tr>\n",
       "      <th>7</th>\n",
       "      <td>Assistant Vice President - Data Scientist - KPO</td>\n",
       "      <td>Assistant Vice President - Data Scientist - KPO</td>\n",
       "      <td>Bangalore/Bengaluru, Mumbai, Hyderabad/Secunde...</td>\n",
       "    </tr>\n",
       "    <tr>\n",
       "      <th>8</th>\n",
       "      <td>Data Scientist</td>\n",
       "      <td>Data Scientist</td>\n",
       "      <td>Bangalore/Bengaluru, Kolkata, Hyderabad/Secund...</td>\n",
       "    </tr>\n",
       "    <tr>\n",
       "      <th>9</th>\n",
       "      <td>Senior Data Scientist</td>\n",
       "      <td>Senior Data Scientist</td>\n",
       "      <td>Bangalore/Bengaluru, Mumbai, New Delhi, Chennai</td>\n",
       "    </tr>\n",
       "  </tbody>\n",
       "</table>\n",
       "</div>"
      ],
      "text/plain": [
       "                                         Job Title  \\\n",
       "0                 Analystics & Modeling Specialist   \n",
       "1                            Senior Data Scientist   \n",
       "2   Data Scientist - Looking For Immediate Joiners   \n",
       "3                 Assistant Manager - Data Science   \n",
       "4                                   Data Scientist   \n",
       "5                               Data Scientist - 2   \n",
       "6                                   Data Scientist   \n",
       "7  Assistant Vice President - Data Scientist - KPO   \n",
       "8                                   Data Scientist   \n",
       "9                            Senior Data Scientist   \n",
       "\n",
       "                                     Company Names  \\\n",
       "0                 Analystics & Modeling Specialist   \n",
       "1                            Senior Data Scientist   \n",
       "2   Data Scientist - Looking For Immediate Joiners   \n",
       "3                 Assistant Manager - Data Science   \n",
       "4                                   Data Scientist   \n",
       "5                               Data Scientist - 2   \n",
       "6                                   Data Scientist   \n",
       "7  Assistant Vice President - Data Scientist - KPO   \n",
       "8                                   Data Scientist   \n",
       "9                            Senior Data Scientist   \n",
       "\n",
       "                                            Location  \n",
       "0  Bangalore/Bengaluru, Kolkata, Mumbai, Hyderaba...  \n",
       "1        Hybrid - Bangalore/Bengaluru, Pune, Chennai  \n",
       "2  Hybrid - Bangalore/Bengaluru, Hyderabad/Secund...  \n",
       "3         Hybrid - Bangalore/Bengaluru, Mumbai, Pune  \n",
       "4  Bangalore/Bengaluru, Hyderabad/Secunderabad, P...  \n",
       "5                                Bangalore/Bengaluru  \n",
       "6  Bangalore/Bengaluru, Noida, Hyderabad/Secunder...  \n",
       "7  Bangalore/Bengaluru, Mumbai, Hyderabad/Secunde...  \n",
       "8  Bangalore/Bengaluru, Kolkata, Hyderabad/Secund...  \n",
       "9    Bangalore/Bengaluru, Mumbai, New Delhi, Chennai  "
      ]
     },
     "execution_count": 32,
     "metadata": {},
     "output_type": "execute_result"
    }
   ],
   "source": [
    "#now let's create a dataframe for first 10 scrapped data \n",
    "jobs = pd.DataFrame()\n",
    "jobs['Job Title'] = job_titles[0:10]\n",
    "jobs['Company Names'] = company_names[0:10]\n",
    "jobs['Location'] = location[0:10]\n",
    "jobs"
   ]
  },
  {
   "cell_type": "markdown",
   "id": "84623f8a",
   "metadata": {},
   "source": [
    "# Q3: In this question you have to scrape data using the filters available on the webpage as shown below:\n",
    "#You have to use the location and salary filter.\n",
    "#You have to scrape data for “Data Scientist” designation for first 10 job results. You have to scrape the job-title, job-location, company name, experience required.\n",
    "#The location filter to be used is “Delhi/NCR”. The salary filter to be used is “3-6” lakhs"
   ]
  },
  {
   "cell_type": "code",
   "execution_count": 27,
   "id": "85e536b4",
   "metadata": {},
   "outputs": [],
   "source": [
    "#connecting to web drivers\n",
    "driver = webdriver.Chrome(r'C:\\Users\\ASUS\\Downloads\\chromedriver_win32\\chromedriver.exe')"
   ]
  },
  {
   "cell_type": "code",
   "execution_count": 28,
   "id": "085aad42",
   "metadata": {},
   "outputs": [],
   "source": [
    "#opening website in automated chrome window\n",
    "url = 'https://www.naukri.com/'\n",
    "driver.get(url)"
   ]
  },
  {
   "cell_type": "code",
   "execution_count": 29,
   "id": "b1b03744",
   "metadata": {},
   "outputs": [],
   "source": [
    "#finding web element for search job bar\n",
    "search_job = driver.find_element(By.CLASS_NAME,\"suggestor-input\")\n",
    "search_job.send_keys(\"Data Scientist\")"
   ]
  },
  {
   "cell_type": "code",
   "execution_count": 30,
   "id": "dcbb08aa",
   "metadata": {},
   "outputs": [],
   "source": [
    "#clicking using absolute xpath function\n",
    "search_btn =driver.find_element(By.CLASS_NAME,\"qsbSubmit\")\n",
    "search_btn.click()"
   ]
  },
  {
   "cell_type": "code",
   "execution_count": 32,
   "id": "ed477742",
   "metadata": {},
   "outputs": [],
   "source": [
    "filter_loctn = driver.find_element(By.XPATH,'/html[1]/body[1]/div[1]/div[4]/div[1]/section[1]/div[2]/div[5]/div[2]/div[2]/label[1]/i[1]')\n",
    "filter_loctn.click()\n"
   ]
  },
  {
   "cell_type": "code",
   "execution_count": 33,
   "id": "134d5905",
   "metadata": {},
   "outputs": [],
   "source": [
    "filter_salary = driver.find_element(By.XPATH,'/html[1]/body[1]/div[1]/div[4]/div[1]/section[1]/div[2]/div[6]/div[2]/div[2]/label[1]/i[1]')\n",
    "filter_salary.click()"
   ]
  },
  {
   "cell_type": "code",
   "execution_count": 34,
   "id": "231ac83b",
   "metadata": {},
   "outputs": [
    {
     "name": "stdout",
     "output_type": "stream",
     "text": [
      "['Data Scientist', 'DigitalBCG GAMMA Data Scientist', 'Urgent hiring For Data Scientist (PHD Must Have)', 'Manager - Data Science - Banking&Financial Services - IIM/ISB/MDI/FMS', 'Data Scientist', 'Data Scientist', 'Data Scientist', 'Data Specialist', 'Data scientist- Python', 'Data Scientist', 'Senior Data Scientist - Python (f/m/x)']\n"
     ]
    }
   ],
   "source": [
    "job_titles =[]\n",
    "title_tags = driver.find_elements(By.XPATH,\"//a[@class='title fw500 ellipsis']\" )\n",
    "for i in title_tags :\n",
    "    job_titles.append(i.text)\n",
    "len(job_titles) \n",
    "print(job_titles)"
   ]
  },
  {
   "cell_type": "code",
   "execution_count": 35,
   "id": "3617480d",
   "metadata": {},
   "outputs": [
    {
     "data": {
      "text/plain": [
       "11"
      ]
     },
     "execution_count": 35,
     "metadata": {},
     "output_type": "execute_result"
    }
   ],
   "source": [
    "#extracting all the web elements containing location\n",
    "location =[]\n",
    "loctn_tags = driver.find_elements(By.XPATH,'//span[@class=\"ellipsis fleft fs12 lh16 locWdth\"]')\n",
    "for i in loctn_tags :\n",
    "    location.append(i.text)\n",
    "len(location)    "
   ]
  },
  {
   "cell_type": "code",
   "execution_count": 36,
   "id": "e768066a",
   "metadata": {},
   "outputs": [
    {
     "data": {
      "text/plain": [
       "11"
      ]
     },
     "execution_count": 36,
     "metadata": {},
     "output_type": "execute_result"
    }
   ],
   "source": [
    "#extracting all the web elements containing company names\n",
    "company_names =[]\n",
    "company_tags = driver.find_elements(By.XPATH,'//a[@class=\"subTitle ellipsis fleft\"]')\n",
    "for i in company_tags:\n",
    "    company_names.append(i.text)\n",
    "len(company_names)    "
   ]
  },
  {
   "cell_type": "code",
   "execution_count": 37,
   "id": "ecc00cca",
   "metadata": {},
   "outputs": [
    {
     "data": {
      "text/plain": [
       "11"
      ]
     },
     "execution_count": 37,
     "metadata": {},
     "output_type": "execute_result"
    }
   ],
   "source": [
    "#extracting all the web elements containing experience\n",
    "experience= []\n",
    "exp_tags = driver.find_elements(By.XPATH,'//span[@class=\"ellipsis fleft fs12 lh16 expwdth\"]')\n",
    "for i in exp_tags :\n",
    "    experience.append(i.text)\n",
    "len(experience)    "
   ]
  },
  {
   "cell_type": "code",
   "execution_count": 40,
   "id": "9fbc4c9c",
   "metadata": {},
   "outputs": [
    {
     "data": {
      "text/html": [
       "<div>\n",
       "<style scoped>\n",
       "    .dataframe tbody tr th:only-of-type {\n",
       "        vertical-align: middle;\n",
       "    }\n",
       "\n",
       "    .dataframe tbody tr th {\n",
       "        vertical-align: top;\n",
       "    }\n",
       "\n",
       "    .dataframe thead th {\n",
       "        text-align: right;\n",
       "    }\n",
       "</style>\n",
       "<table border=\"1\" class=\"dataframe\">\n",
       "  <thead>\n",
       "    <tr style=\"text-align: right;\">\n",
       "      <th></th>\n",
       "      <th>Job Title</th>\n",
       "      <th>Company Names</th>\n",
       "      <th>Location</th>\n",
       "      <th>Experience</th>\n",
       "    </tr>\n",
       "  </thead>\n",
       "  <tbody>\n",
       "    <tr>\n",
       "      <th>0</th>\n",
       "      <td>Data Scientist</td>\n",
       "      <td>HCLTech</td>\n",
       "      <td>Noida, Hyderabad/Secunderabad, Chennai, Bangal...</td>\n",
       "      <td>4-9 Yrs</td>\n",
       "    </tr>\n",
       "    <tr>\n",
       "      <th>1</th>\n",
       "      <td>DigitalBCG GAMMA Data Scientist</td>\n",
       "      <td>Boston Consulting Group</td>\n",
       "      <td>New Delhi, Bangalore/Bengaluru</td>\n",
       "      <td>2-5 Yrs</td>\n",
       "    </tr>\n",
       "    <tr>\n",
       "      <th>2</th>\n",
       "      <td>Urgent hiring For Data Scientist (PHD Must Have)</td>\n",
       "      <td>NGI Ventures</td>\n",
       "      <td>Temp. WFH - Noida, Pune</td>\n",
       "      <td>0-4 Yrs</td>\n",
       "    </tr>\n",
       "    <tr>\n",
       "      <th>3</th>\n",
       "      <td>Manager - Data Science - Banking&amp;Financial Ser...</td>\n",
       "      <td>Black Turtle</td>\n",
       "      <td>Delhi / NCR, Bangalore/Bengaluru</td>\n",
       "      <td>4-8 Yrs</td>\n",
       "    </tr>\n",
       "    <tr>\n",
       "      <th>4</th>\n",
       "      <td>Data Scientist</td>\n",
       "      <td>torcai digital media</td>\n",
       "      <td>Dehradun, Hyderabad/Secunderabad, Gurgaon/Guru...</td>\n",
       "      <td>2-7 Yrs</td>\n",
       "    </tr>\n",
       "    <tr>\n",
       "      <th>5</th>\n",
       "      <td>Data Scientist</td>\n",
       "      <td>Meon Technologies</td>\n",
       "      <td>Noida</td>\n",
       "      <td>2-5 Yrs</td>\n",
       "    </tr>\n",
       "    <tr>\n",
       "      <th>6</th>\n",
       "      <td>Data Scientist</td>\n",
       "      <td>Alliance Recruitment Agency</td>\n",
       "      <td>Noida</td>\n",
       "      <td>3-4 Yrs</td>\n",
       "    </tr>\n",
       "    <tr>\n",
       "      <th>7</th>\n",
       "      <td>Data Specialist</td>\n",
       "      <td>RCPC</td>\n",
       "      <td>Noida</td>\n",
       "      <td>4-6 Yrs</td>\n",
       "    </tr>\n",
       "    <tr>\n",
       "      <th>8</th>\n",
       "      <td>Data scientist- Python</td>\n",
       "      <td>TeamPlus Staffing Solution Pvt Ltd</td>\n",
       "      <td>Gurgaon/Gurugram</td>\n",
       "      <td>3-6 Yrs</td>\n",
       "    </tr>\n",
       "    <tr>\n",
       "      <th>9</th>\n",
       "      <td>Data Scientist</td>\n",
       "      <td>Razor Group GmbH</td>\n",
       "      <td>New Delhi</td>\n",
       "      <td>2-3 Yrs</td>\n",
       "    </tr>\n",
       "  </tbody>\n",
       "</table>\n",
       "</div>"
      ],
      "text/plain": [
       "                                           Job Title  \\\n",
       "0                                     Data Scientist   \n",
       "1                    DigitalBCG GAMMA Data Scientist   \n",
       "2   Urgent hiring For Data Scientist (PHD Must Have)   \n",
       "3  Manager - Data Science - Banking&Financial Ser...   \n",
       "4                                     Data Scientist   \n",
       "5                                     Data Scientist   \n",
       "6                                     Data Scientist   \n",
       "7                                    Data Specialist   \n",
       "8                             Data scientist- Python   \n",
       "9                                     Data Scientist   \n",
       "\n",
       "                        Company Names  \\\n",
       "0                             HCLTech   \n",
       "1             Boston Consulting Group   \n",
       "2                        NGI Ventures   \n",
       "3                        Black Turtle   \n",
       "4                torcai digital media   \n",
       "5                   Meon Technologies   \n",
       "6         Alliance Recruitment Agency   \n",
       "7                                RCPC   \n",
       "8  TeamPlus Staffing Solution Pvt Ltd   \n",
       "9                    Razor Group GmbH   \n",
       "\n",
       "                                            Location Experience  \n",
       "0  Noida, Hyderabad/Secunderabad, Chennai, Bangal...    4-9 Yrs  \n",
       "1                     New Delhi, Bangalore/Bengaluru    2-5 Yrs  \n",
       "2                            Temp. WFH - Noida, Pune    0-4 Yrs  \n",
       "3                   Delhi / NCR, Bangalore/Bengaluru    4-8 Yrs  \n",
       "4  Dehradun, Hyderabad/Secunderabad, Gurgaon/Guru...    2-7 Yrs  \n",
       "5                                              Noida    2-5 Yrs  \n",
       "6                                              Noida    3-4 Yrs  \n",
       "7                                              Noida    4-6 Yrs  \n",
       "8                                   Gurgaon/Gurugram    3-6 Yrs  \n",
       "9                                          New Delhi    2-3 Yrs  "
      ]
     },
     "execution_count": 40,
     "metadata": {},
     "output_type": "execute_result"
    }
   ],
   "source": [
    "#now let's create a dataframe for first 10 scrapped data \n",
    "jobs = pd.DataFrame()\n",
    "jobs['Job Title'] = job_titles[0:10]\n",
    "jobs['Company Names'] = company_names[0:10]\n",
    "jobs['Location'] = location[0:10]\n",
    "jobs['Experience'] = experience[0:10]\n",
    "jobs"
   ]
  },
  {
   "cell_type": "markdown",
   "id": "8a918ff6",
   "metadata": {},
   "source": [
    "# Q4: Scrape data of first 100 sunglasses listings on flipkart.com. You have to scrape four attributes:\n",
    "1. Brand\n",
    "2. Product Description\n",
    "3. Price"
   ]
  },
  {
   "cell_type": "code",
   "execution_count": 25,
   "id": "0e2f0d1c",
   "metadata": {},
   "outputs": [],
   "source": [
    "#connecting to web drivers\n",
    "driver = webdriver.Chrome(r'C:\\Users\\ASUS\\Downloads\\chromedriver_win32\\chromedriver.exe')"
   ]
  },
  {
   "cell_type": "code",
   "execution_count": 26,
   "id": "09d95dcf",
   "metadata": {},
   "outputs": [],
   "source": [
    "#opening website in automated chrome window\n",
    "url = 'https://www.flipkart.com/'\n",
    "driver.get(url)"
   ]
  },
  {
   "cell_type": "code",
   "execution_count": 27,
   "id": "fa902d5c",
   "metadata": {},
   "outputs": [],
   "source": [
    "#finding web element for search job bar\n",
    "search_glasses = driver.find_element(By.CLASS_NAME,\"_3704LK\")\n",
    "search_glasses.send_keys(\"Sun Glasses\")"
   ]
  },
  {
   "cell_type": "code",
   "execution_count": 28,
   "id": "160ee730",
   "metadata": {},
   "outputs": [],
   "source": [
    "search_btn = driver.find_element(By.CLASS_NAME,\"_34RNph\")\n",
    "search_btn.click()"
   ]
  },
  {
   "cell_type": "code",
   "execution_count": 29,
   "id": "bdf5aa30",
   "metadata": {},
   "outputs": [
    {
     "name": "stdout",
     "output_type": "stream",
     "text": [
      "['Tag Eye', 'hayden haiza', 'Fastrack', 'Fastrack', 'PIRASO', 'Fastrack', 'SUNBEE', 'DEXENT COLLECTION', 'New Specs', 'Fastrack', 'Poshh eyewear', 'ROZZETTA CRAFT', 'Sewell', 'Fastrack', 'Elligator', 'Elligator', 'Resist', 'ROZZETTA CRAFT', 'VINCENT CHASE', 'PIRASO', 'ROZZETTA CRAFT', 'ROZZETTA CRAFT', 'Fastrack', 'Fastrack', 'PIRASO', 'GANSTA', 'Singco India', 'OCHILA', 'SRPM', 'Fastrack', 'ROZZETTA CRAFT', 'ROYAL SON', 'Fastrack', 'ROZZETTA CRAFT', 'PIRASO', 'SHAAH COLLECTIONS', 'Fair-x', 'PROVOGUE', 'SRPM', 'Fastrack']\n"
     ]
    }
   ],
   "source": [
    "brands =[]\n",
    "brands_sgls = driver.find_elements(By.CLASS_NAME,\"_2WkVRV\")\n",
    "for i in brands_sgls [0:100]:\n",
    "    brands.append(i.text)\n",
    "len(brands) \n",
    "print(brands)"
   ]
  },
  {
   "cell_type": "code",
   "execution_count": 30,
   "id": "36f98a66",
   "metadata": {},
   "outputs": [
    {
     "name": "stdout",
     "output_type": "stream",
     "text": [
      "['UV Protection Aviator Sunglasses (66)', 'UV Protection Retro Square Sunglasses (46)', 'UV Protection Wayfarer Sunglasses (Free Size)', 'UV Protection Rectangular Sunglasses (Free Size)', 'UV Protection Rectangular Sunglasses (52)', 'Gradient, UV Protection Wayfarer Sunglasses (Free Size)', 'UV Protection, Polarized Wayfarer Sunglasses (Free Size...', 'UV Protection Oval Sunglasses (Free Size)', 'UV Protection Rectangular Sunglasses (Free Size)', 'UV Protection Wayfarer Sunglasses (Free Size)', 'UV Protection, Polarized Wayfarer Sunglasses (Free Size...', 'Polarized, UV Protection Aviator Sunglasses (55)', 'Mirrored, Night Vision, UV Protection, Riding Glasses S...', 'UV Protection Shield Sunglasses (Free Size)', 'UV Protection Cat-eye, Retro Square, Oval, Round Sungla...', 'Others Cat-eye, Retro Square, Wayfarer Sunglasses (54)', 'Polarized Wayfarer Sunglasses (Free Size)', 'UV Protection, Gradient Rectangular Sunglasses (Free Si...', 'UV Protection Wayfarer Sunglasses (59)', 'UV Protection Aviator Sunglasses (54)', 'UV Protection, Gradient Rectangular Sunglasses (Free Si...', 'UV Protection, Gradient Round Sunglasses (Free Size)', 'UV Protection Aviator Sunglasses (58)', 'Gradient, UV Protection Wayfarer Sunglasses (Free Size)', 'UV Protection Aviator Sunglasses (58)', 'Gradient, UV Protection Aviator Sunglasses (57)', 'Gradient, Toughened Glass Lens, UV Protection Retro Squ...', 'UV Protection Aviator Sunglasses (58)', 'UV Protection Wayfarer Sunglasses (50)', 'Gradient, UV Protection Wayfarer Sunglasses (Free Size)', 'Polarized, UV Protection Aviator Sunglasses (55)', 'Polarized, UV Protection Aviator Sunglasses (57)', 'UV Protection Aviator Sunglasses (Free Size)', 'Polarized, Riding Glasses Sports, Wrap-around Sunglasse...', 'UV Protection Wayfarer Sunglasses (32)', 'UV Protection, Polarized, Mirrored Rectangular Sunglass...', 'UV Protection Aviator Sunglasses (58)', 'Polarized, UV Protection Rectangular Sunglasses (Free S...', 'Night Vision, UV Protection Round Sunglasses (54)', 'UV Protection Aviator Sunglasses (58)']\n"
     ]
    }
   ],
   "source": [
    "product =[]\n",
    "product_des = driver.find_elements(By.CLASS_NAME,\"IRpwTa\")\n",
    "for i in product_des [0:100]:\n",
    "    product.append(i.text)\n",
    "len(product) \n",
    "print(product)"
   ]
  },
  {
   "cell_type": "code",
   "execution_count": 31,
   "id": "b27ad974",
   "metadata": {},
   "outputs": [
    {
     "data": {
      "text/plain": [
       "45"
      ]
     },
     "execution_count": 31,
     "metadata": {},
     "output_type": "execute_result"
    }
   ],
   "source": [
    "price =[]\n",
    "price_details = driver.find_elements(By.CLASS_NAME,\"_30jeq3\")\n",
    "for i in price_details [0:100]:\n",
    "    price.append(i.text)\n",
    "len(price)    "
   ]
  },
  {
   "cell_type": "code",
   "execution_count": 32,
   "id": "e65f92e2",
   "metadata": {},
   "outputs": [
    {
     "data": {
      "text/plain": [
       "45"
      ]
     },
     "execution_count": 32,
     "metadata": {},
     "output_type": "execute_result"
    }
   ],
   "source": [
    "discount =[]\n",
    "discount_per = driver.find_elements(By.CLASS_NAME,\"_3Ay6Sb\")\n",
    "for i in discount_per [0:100]:\n",
    "    discount.append(i.text)\n",
    "len(discount)    "
   ]
  },
  {
   "cell_type": "code",
   "execution_count": 11,
   "id": "ae95876d",
   "metadata": {},
   "outputs": [],
   "source": [
    "brands =[]\n",
    "start=0\n",
    "end=2\n",
    "for page in range(start,end):\n",
    "    glasses=driver.find_elements(By.CLASS_NAME,\"_3704LK\")\n",
    "    for i in glasses:\n",
    "        brands.append(i.text)\n",
    "    next_button=driver.find_element(By.XPATH,'//span[contains(text(),\"Next\")]')\n",
    "    next_button.click()\n",
    "    time.sleep(3)\n",
    "driver.close()"
   ]
  },
  {
   "cell_type": "markdown",
   "id": "91c6dd6a",
   "metadata": {},
   "source": [
    "# Q5: Scrape 100 reviews data from flipkart.com for iphone11 phone."
   ]
  },
  {
   "cell_type": "code",
   "execution_count": 12,
   "id": "edd76ee0",
   "metadata": {},
   "outputs": [],
   "source": [
    "#connecting to web drivers\n",
    "driver = webdriver.Chrome(r'C:\\Users\\ASUS\\Downloads\\chromedriver_win32\\chromedriver.exe')"
   ]
  },
  {
   "cell_type": "code",
   "execution_count": 15,
   "id": "42793698",
   "metadata": {},
   "outputs": [],
   "source": [
    "#opening website in automated chrome window\n",
    "url = 'https://www.flipkart.com/apple-iphone-11-black-64-gb'\n",
    "driver.get(url)"
   ]
  },
  {
   "cell_type": "code",
   "execution_count": 16,
   "id": "fc1f40f0",
   "metadata": {},
   "outputs": [],
   "source": [
    "#this website not opening showing an error"
   ]
  },
  {
   "cell_type": "markdown",
   "id": "b6e4b36b",
   "metadata": {},
   "source": [
    "# Q6: Scrape data for first 100 sneakers you find when you visit flipkart.com and search for “sneakers” in the\n",
    "search field.\n",
    "You have to scrape 4 attributes of each sneaker:\n",
    "1. Brand\n",
    "2. Product Description\n",
    "3. Price"
   ]
  },
  {
   "cell_type": "code",
   "execution_count": 3,
   "id": "790f7e2a",
   "metadata": {},
   "outputs": [],
   "source": [
    "#connecting to web drivers\n",
    "driver = webdriver.Chrome(r'C:\\Users\\ASUS\\Downloads\\chromedriver_win32\\chromedriver.exe')"
   ]
  },
  {
   "cell_type": "code",
   "execution_count": 4,
   "id": "369de838",
   "metadata": {},
   "outputs": [],
   "source": [
    "#opening website in automated chrome window\n",
    "url = 'https://www.flipkart.com/'\n",
    "driver.get(url)"
   ]
  },
  {
   "cell_type": "code",
   "execution_count": 17,
   "id": "8217ded5",
   "metadata": {},
   "outputs": [],
   "source": [
    "#finding web element for search job bar\n",
    "search_sneak = driver.find_element(By.CLASS_NAME,\"_3704LK\")\n",
    "search_sneak.send_keys(\"Sneakers\")"
   ]
  },
  {
   "cell_type": "code",
   "execution_count": 19,
   "id": "5b04c408",
   "metadata": {},
   "outputs": [],
   "source": [
    "search_btn = driver.find_element(By.CLASS_NAME,\"L0Z3Pu\")\n",
    "search_btn.click()"
   ]
  },
  {
   "cell_type": "code",
   "execution_count": 20,
   "id": "c62fe4f7",
   "metadata": {},
   "outputs": [
    {
     "name": "stdout",
     "output_type": "stream",
     "text": [
      "['RED TAPE', 'RED TAPE', 'Labbin', 'PUMA', 'TR', 'Robbie jones', 'Kraasa', 'BRUTON', 'TR', 'Indianwalk', 'BIRDE', 'Magnolia', 'Deals4you', 'Robbie jones', 'BRUTON', 'RapidBox', 'SCATCHITE', 'T-ROCK', 'ASTEROID', 'BRUTON', 'World Wear Footwear', 'aadi', 'BRUTON', 'Sparx', 'HOTSTYLE', 'RINDAS', 'aadi', 'PUMA', 'asics', 'Magnolia', 'DUCATI', 'BRUTON', 'ASTEROID', 'GVR', 'AMICO', 'BUXBERRY', 'BIRDE', 'Robbie jones', 'LNT FASHION', 'BRUTON']\n"
     ]
    }
   ],
   "source": [
    "brands =[]\n",
    "brands_sneak = driver.find_elements(By.CLASS_NAME,\"_2WkVRV\")\n",
    "for i in brands_sneak :\n",
    "    brands.append(i.text)\n",
    "len(brands) \n",
    "print(brands)\n"
   ]
  },
  {
   "cell_type": "code",
   "execution_count": 21,
   "id": "8b9d0876",
   "metadata": {},
   "outputs": [
    {
     "name": "stdout",
     "output_type": "stream",
     "text": [
      "['Sneakers For Men', 'Sneakers For Men', 'Sneakers For Men', 'Trinity Sneakers For Men', 'Sneakers For Men', 'Casual Sneakers Canvas Shoes For Men Sneakers For Men', 'Casuals, Canvas, Partywear Sneakers For Men', 'Lightweight Pack Of 1 Trendy Sneakers Sneakers For Men', 'Casual Sneakers For Men', 'Casual sneakers Sneakers For Men', 'Premium Sports Shoes for Men Sneakers For Men', 'Sneakers For Men', 'Sneakers For Women', 'Sneakers For Men', 'Canvas shoes for Men Sneakers For Men', 'Sneakers For Men', 'Sneakers Sneakers For Men', 'Stylish White Casual Sneakers shoes Men and Boys Sneake...', \"Luxury Branded Fashionable Men's Casual Walking Partywe...\", 'Exclusive Sneaker Shoes Sneakers For Men', 'Exclusive Affordable Collection of Trendy & Stylish Cas...', 'Mesh | Ultralightweight | Comfortable | Breathable Walk...', 'Lightweight Pack Of 1 Trendy Sneakers Sneakers Sneakers...', 'SM-671 Sneakers For Men', 'Sneakers For Men', \"Perfect Stylish Casual Shoes For Girls & Women's Casual...\", 'Sneakers For Men', 'Acrux Sneakers For Men', 'fuzor B Sneakers For Men', 'Sneakers For Men', 'Sneakers For Men', 'Modern Trendy Sneakers Shoes Sneakers For Men', \"Original Luxury Branded Fashionable Men's Casual Walkin...\", 'Sneakers For Men', 'Sneakers For Men', 'Outdoor Trendy Lightweight Casual,Canvas Stylish Partyw...', 'Premium Casual Shoes for Men Sneakers For Men', 'Sneakers For Men', 'Sneakers For Men', 'Lattest Sneakers Shoe Sneakers For Men']\n"
     ]
    }
   ],
   "source": [
    "product =[]\n",
    "product_des = driver.find_elements(By.CLASS_NAME,\"IRpwTa\")\n",
    "for i in product_des :\n",
    "    product.append(i.text)\n",
    "len(product) \n",
    "print(product)"
   ]
  },
  {
   "cell_type": "code",
   "execution_count": 23,
   "id": "fcb86036",
   "metadata": {},
   "outputs": [
    {
     "name": "stdout",
     "output_type": "stream",
     "text": [
      "['₹1,249', '₹1,349', '₹395', '₹2,204', '₹299', '₹329', '₹499', '₹199', '₹449', '₹599', '₹379', '₹299', '₹389', '₹349', '₹389', '₹599', '₹360', '₹395', '₹499', '₹324', '₹249', '₹399', '₹199', '₹879', '₹249', '₹298', '₹249', '₹1,966', '₹1,427', '₹299', '₹1,014', '₹324', '₹499', '₹629', '₹494', '₹490', '₹299', '₹329', '₹267', '₹298', '₹2,204', '₹879', '₹329', '₹329', '₹599']\n"
     ]
    }
   ],
   "source": [
    "price =[]\n",
    "price_details = driver.find_elements(By.CLASS_NAME,\"_30jeq3\")\n",
    "for i in price_details :\n",
    "    price.append(i.text)\n",
    "len(price)  \n",
    "print(price)"
   ]
  },
  {
   "cell_type": "code",
   "execution_count": 25,
   "id": "7b227a2f",
   "metadata": {},
   "outputs": [
    {
     "name": "stdout",
     "output_type": "stream",
     "text": [
      "['75% off', '75% off', '60% off', '37% off', '80% off', '67% off', '50% off', '66% off', '70% off', '70% off', '62% off', '70% off', '61% off', '65% off', '70% off', '40% off', '63% off', '60% off', '75% off', '75% off', '83% off', '80% off', '66% off', '20% off', '75% off', '70% off', '87% off', '40% off', '62% off', '70% off', '71% off', '75% off', '50% off', '37% off', '50% off', '60% off', '70% off', '67% off', '73% off', '77% off', '37% off', '20% off', '67% off', '67% off', '70% off']\n"
     ]
    }
   ],
   "source": [
    "discount =[]\n",
    "discount_per = driver.find_elements(By.CLASS_NAME,\"_3Ay6Sb\")\n",
    "for i in discount_per:\n",
    "    discount.append(i.text)\n",
    "len(discount)    \n",
    "print(discount)"
   ]
  },
  {
   "cell_type": "markdown",
   "id": "6a06df91",
   "metadata": {},
   "source": [
    "# Q7: Go to the link - https://www.myntra.com/shoes\n",
    "#Set second Price filter and Color filter to “Black”\n",
    "#And then scrape First 100 shoes data you get. The data should include “Brand” of the shoes , Short Shoe description, price of the shoe"
   ]
  },
  {
   "cell_type": "code",
   "execution_count": 16,
   "id": "ef3f6ca3",
   "metadata": {},
   "outputs": [],
   "source": [
    "#connecting to web drivers\n",
    "driver = webdriver.Chrome(r'C:\\Users\\ASUS\\Downloads\\chromedriver_win32\\chromedriver.exe')"
   ]
  },
  {
   "cell_type": "code",
   "execution_count": 17,
   "id": "1b7ba10c",
   "metadata": {},
   "outputs": [],
   "source": [
    "#opening website in automated chrome window\n",
    "url = 'https://www.myntra.com/shoes'\n",
    "driver.get(url)"
   ]
  },
  {
   "cell_type": "code",
   "execution_count": 18,
   "id": "a4310f04",
   "metadata": {},
   "outputs": [],
   "source": [
    "filter_price = driver.find_element(By.XPATH,'/html[1]/body[1]/div[2]/div[1]/main[1]/div[3]/div[1]/section[1]/div[1]/div[5]/ul[1]/li[2]/label[1]/div[1]')\n",
    "filter_price.click()\n"
   ]
  },
  {
   "cell_type": "code",
   "execution_count": 19,
   "id": "fcaa1440",
   "metadata": {},
   "outputs": [],
   "source": [
    "filter_colour = driver.find_element(By.XPATH,'/html[1]/body[1]/div[2]/div[1]/main[1]/div[3]/div[1]/section[1]/div[1]/div[6]/ul[1]/li[1]/label[1]/div[1]')\n",
    "filter_colour.click()\n"
   ]
  },
  {
   "cell_type": "code",
   "execution_count": 22,
   "id": "89de579d",
   "metadata": {},
   "outputs": [
    {
     "name": "stdout",
     "output_type": "stream",
     "text": [
      "['Puma', 'Puma', 'Nike', 'UNDER ARMOUR', 'UNDER ARMOUR', 'Nike', 'UNDER ARMOUR', 'Nike', 'Puma', 'Ruosh', 'UNDER ARMOUR', 'ADIDAS Originals', 'Nike', 'ADIDAS', 'UNDER ARMOUR', 'ADIDAS', 'Saint G', 'Skechers', 'Nike', 'Skechers', 'ADIDAS Originals', 'Nike', 'Tommy Hilfiger', 'ADIDAS', 'Skechers', 'UNDER ARMOUR', 'Skechers', 'ADIDAS', 'Puma', 'Xtep', 'ADIDAS Originals', 'ADIDAS', 'Geox', 'Geox', 'Nike', 'ADIDAS', 'ADIDAS', 'Nike', 'ADIDAS', 'Nike', 'Ruosh', 'ALDO', 'Nike', 'ADIDAS Originals', 'ALDO', 'Nike', 'Ruosh', 'Saint G', 'Xtep', 'Skechers']\n"
     ]
    }
   ],
   "source": [
    "#extracting brands\n",
    "brands =[]\n",
    "brands_shoes = driver.find_elements(By.XPATH,'//h3[@class=\"product-brand\"]')\n",
    "for i in brands_shoes [0:100]:\n",
    "    brands.append(i.text)\n",
    "len(brands) \n",
    "print(brands)"
   ]
  },
  {
   "cell_type": "code",
   "execution_count": 23,
   "id": "7f891349",
   "metadata": {},
   "outputs": [
    {
     "name": "stdout",
     "output_type": "stream",
     "text": [
      "['Men Magnify Nitro Running', 'Men Liberate Running Shoes', 'Men Vomero 16 Running Shoes', 'Men HOVR SonicSE Running Shoes', 'Men ChargedEscape 3 BL Running', 'JORDAN ZION 2 Basketball Shoes', 'Unisex 3ZER0 IV Basketball', 'JORDAN MAX AURA 4 Shoes', 'Eternity Nitro Running Shoes', 'Men Textured Leather Loafers', 'Women HOVR SonicSE Running', 'Men ZX 22 BOOST Sneakers', 'Men FREE RUN 2 Sneakers', 'Men Runner Fl Running Shoes', 'Men HOVR SonicSE Running Shoes', 'Men Ultraboost 5.0 DNA Running', 'Suede Above The Knee Boots', 'Men Walking Shoes', 'Men Air Max Flyknit Sneakers', 'Men Sky Vault Walking Shoes', 'Men Solid NMD_R1 V3 Sneakers', 'Men AIR MAX DAWN Sneakers', 'Men Textured Leather Loafers', 'Men Adistar Running Shoes', 'Men GO WALK - TERRA Shoes', 'W omen TriBase Reign 4 Running', 'Men Woven Design Sneakers', 'Men Response Super 3.0 Run', 'Men Nitro 2 WIDE Running Shoes', 'Men Running Shoes', 'Men Leather Ozelia Sneakers', 'Men Ultraboost 5.0 DNA Running', 'Woman Leather Ankle Boots', 'Leather Heeled Boots', 'Men KD 15 Basketball Shoes', 'Women Ultraboost 22 Running', 'Men Adistar CS Running Shoes', 'Women AIR ZOOM Running Shoes', 'Men Response Super 3.0 Run', 'Men Air Max Sneakers', 'Men Leather Loafers', 'Men Slip-On Sneakers', 'Men Kyrie Flytrap Basketball', 'Men Woven Nmd_R1 Sneakers', 'Men Solid Leather Slip On Formal Shoes', 'Men AIR WINFLO 9 Running Shoes', 'Men Textured Leather Loafers', 'Block Heeled Boots', 'Men Basketball Shoes', 'Women Go Walk EU Walking Shoes']\n"
     ]
    }
   ],
   "source": [
    "#extracting product description\n",
    "product =[]\n",
    "product_des = driver.find_elements(By.XPATH,'//h4[@class=\"product-product\"]')\n",
    "for i in product_des [0:100]:\n",
    "    product.append(i.text)\n",
    "len(product) \n",
    "print(product)"
   ]
  },
  {
   "cell_type": "code",
   "execution_count": 24,
   "id": "ec460124",
   "metadata": {},
   "outputs": [
    {
     "name": "stdout",
     "output_type": "stream",
     "text": [
      "['Rs. 9099Rs. 12999(30% OFF)', 'Rs. 10999', 'Rs. 11470Rs. 13495(15% OFF)', 'Rs. 9999', 'Rs. 8999', 'Rs. 9175Rs. 10795(15% OFF)', 'Rs. 8999', 'Rs. 10165Rs. 11295(10% OFF)', 'Rs. 12999', 'Rs. 7990', 'Rs. 9999', 'Rs. 10199Rs. 11999(15% OFF)', 'Rs. 9695', 'Rs. 11249Rs. 14999(25% OFF)', 'Rs. 9999', 'Rs. 12749Rs. 16999(25% OFF)', 'Rs. 13410Rs. 14900(10% OFF)', 'Rs. 8999', 'Rs. 12745Rs. 14995(15% OFF)', 'Rs. 8999', 'Rs. 12799Rs. 15999(20% OFF)', 'Rs. 9175Rs. 10795(15% OFF)', 'Rs. 8999', 'Rs. 12999', 'Rs. 7999Rs. 9999(20% OFF)', 'Rs. 11999', 'Rs. 7499', 'Rs. 8999', 'Rs. 11999', 'Rs. 7199Rs. 7999(10% OFF)', 'Rs. 9349Rs. 10999(15% OFF)', 'Rs. 11049Rs. 16999(35% OFF)', 'Rs. 13990', 'Rs. 13990', 'Rs. 11196Rs. 13995(20% OFF)', 'Rs. 12349Rs. 18999(35% OFF)', 'Rs. 11999Rs. 15999(25% OFF)', 'Rs. 8750Rs. 10295(15% OFF)', 'Rs. 8999', 'Rs. 8295', 'Rs. 8990', 'Rs. 9099Rs. 12999(30% OFF)', 'Rs. 7220Rs. 8495(15% OFF)', 'Rs. 12999', 'Rs. 11399Rs. 18999(40% OFF)', 'Rs. 7220Rs. 8495(15% OFF)', 'Rs. 8990', 'Rs. 7560Rs. 8400(10% OFF)', 'Rs. 7199Rs. 7999(10% OFF)', 'Rs. 7499']\n"
     ]
    }
   ],
   "source": [
    "#extracting price\n",
    "price =[]\n",
    "price_details = driver.find_elements(By.XPATH,'//div[@class=\"product-price\"]')\n",
    "for i in price_details [0:100]:\n",
    "    price.append(i.text)\n",
    "len(price)  \n",
    "print(price)"
   ]
  },
  {
   "cell_type": "code",
   "execution_count": 54,
   "id": "eff17e61",
   "metadata": {},
   "outputs": [],
   "source": [
    "#clicking on next button \n",
    "next_button=driver.find_element(By.XPATH,'//li[@class=\"pagination-next\"]')\n",
    "next_button.click()"
   ]
  },
  {
   "cell_type": "code",
   "execution_count": 55,
   "id": "6983a6cb",
   "metadata": {},
   "outputs": [
    {
     "name": "stdout",
     "output_type": "stream",
     "text": [
      "['ADIDAS', 'ALDO', 'Columbia', 'Bugatti', 'Skechers', 'Puma', 'Saint G', 'ADIDAS', 'Puma', 'Nike', 'ADIDAS Originals', 'Nike', 'UNDER ARMOUR', 'Puma', 'Xtep', 'Puma', 'ADIDAS Originals', 'ADIDAS Originals', 'Tommy Hilfiger', 'Geox', 'ADIDAS Originals', 'J.FONTINI', 'ALDO', 'Skechers', 'Saint G', 'Hush Puppies', 'Puma', 'Geox', 'Skechers', 'Tommy Hilfiger', 'ADIDAS', 'SKO', 'Puma', 'Saint G', 'ADIDAS Originals', 'Nike', 'Hush Puppies', 'ALDO', 'Bugatti', 'Nike', 'ALDO', 'Geox', 'Skechers', 'ALDO', 'ADIDAS Originals', 'Nike', 'Clarks', 'Nike', 'Geox', 'Tommy Hilfiger']\n"
     ]
    }
   ],
   "source": [
    "#extracting brands from 2nd page\n",
    "brands =[]\n",
    "brands_shoes = driver.find_elements(By.XPATH,'//h3[@class=\"product-brand\"]')\n",
    "for i in brands_shoes :\n",
    "    brands.append(i.text)\n",
    "len(brands) \n",
    "print(brands)"
   ]
  },
  {
   "cell_type": "code",
   "execution_count": 56,
   "id": "54f79127",
   "metadata": {},
   "outputs": [
    {
     "name": "stdout",
     "output_type": "stream",
     "text": [
      "['Men Adistar CS Running Shoes', 'Men Leather Loafers', 'Women Trekking Shoes', 'Men Running Sports Shoes', 'Men Sky Vault Walking Shoes', 'Men Running Shoes', 'Leather Block Heeled Boots', 'Women Solid Pureboost 22 Shoes', 'Women Eternity NITRO Shoes', 'Women AIR ZOOM Running Shoes', 'Men Woven NMD_31 Sneakers', 'Men FREE RUN 2 Sneakers', 'Men HOVR Sonic SE Running Shoe', 'Men Nitro 2 WIDE Running Shoes', 'Men Skateboarding Shoes', 'Women Running Sports Shoes', 'Women Forum Bonega Sneakers', 'Men Woven FomSolution Sneakers', 'Men Solid Sneakers', 'Women Solid Boots', 'Men Retropy F90 Sneakers', 'Men Textured Leather Loafers', 'Women Regular Boots', 'Women Go Walk EU Walking Shoes', 'Leather Wedge Heeled Boots with Buckles', 'Men Perforations Leather Slip-On Sneakers', 'Fusion Evo Extra Wide Golf Shoes', 'Women Solid Boots', 'Men Woven Design Sneakers', 'Men Leather Mid-Top Sneakers', 'Women Super 3.0 Running Shoes', 'Men Perforations Leather Loafers', 'Women Run XX Nitro Running', 'Women Leather Knee High Boots', 'Men ZX 5K Boost Sneakers', 'Women Air Max Flyknit Sneakers', 'Men Solid Leather Formal Slip-Ons', 'Men Mid Top Lace Up Sneakers', 'Men Running Shoes', 'Women React Infinity Running', 'Men Slip-On Sneakers', 'Leather Ankle Boots', 'Men GO FLEX 2-COMPLETION Shoes', 'Women Textured Sneakers', 'Women Forum Low Sneakers', 'Women VOMERO 16 Running Shoes', 'Men Solid Leather Formal Loafers', 'Men JORDAN LOW Basketball Shoe', 'Men Leather Slip-On Sneakers', 'Women Leather Sneakers']\n"
     ]
    }
   ],
   "source": [
    "#extracting product des from ii page\n",
    "product =[]\n",
    "product_des = driver.find_elements(By.XPATH,'//h4[@class=\"product-product\"]')\n",
    "for i in product_des :\n",
    "    product.append(i.text)\n",
    "len(product) \n",
    "print(product)"
   ]
  },
  {
   "cell_type": "code",
   "execution_count": 57,
   "id": "5fed49e3",
   "metadata": {},
   "outputs": [
    {
     "name": "stdout",
     "output_type": "stream",
     "text": [
      "['Rs. 11999Rs. 15999(25% OFF)', 'Rs. 13299Rs. 18999(30% OFF)', 'Rs. 8999', 'Rs. 13999', 'Rs. 8999', 'Rs. 13999', 'Rs. 8010Rs. 8900(10% OFF)', 'Rs. 8999Rs. 11999(25% OFF)', 'Rs. 12999', 'Rs. 8750Rs. 10295(15% OFF)', 'Rs. 9799Rs. 13999(30% OFF)', 'Rs. 9695', 'Rs. 9999', 'Rs. 11999', 'Rs. 8599', 'Rs. 10499Rs. 14999(30% OFF)', 'Rs. 10199Rs. 11999(15% OFF)', 'Rs. 9999', 'Rs. 7999Rs. 9999(20% OFF)', 'Rs. 13990', 'Rs. 9999', 'Rs. 8490', 'Rs. 13999', 'Rs. 7499', 'Rs. 13410Rs. 14900(10% OFF)', 'Rs. 7999', 'Rs. 7649Rs. 8999(15% OFF)', 'Rs. 12990', 'Rs. 7499', 'Rs. 7199Rs. 8999(20% OFF)', 'Rs. 8999', 'Rs. 7500', 'Rs. 9999', 'Rs. 12510Rs. 13900(10% OFF)', 'Rs. 12799Rs. 15999(20% OFF)', 'Rs. 11996Rs. 14995(20% OFF)', 'Rs. 9999', 'Rs. 9599Rs. 15999(40% OFF)', 'Rs. 13999', 'Rs. 11196Rs. 13995(20% OFF)', 'Rs. 9099Rs. 12999(30% OFF)', 'Rs. 11990', 'Rs. 7499', 'Rs. 12999', 'Rs. 9999', 'Rs. 11470Rs. 13495(15% OFF)', 'Rs. 7999', 'Rs. 12795', 'Rs. 13166Rs. 15490(15% OFF)', 'Rs. 7199Rs. 7999(10% OFF)']\n"
     ]
    }
   ],
   "source": [
    "#extracting prices from ii page\n",
    "price =[]\n",
    "price_details = driver.find_elements(By.XPATH,'//div[@class=\"product-price\"]')\n",
    "for i in price_details :\n",
    "    price.append(i.text)\n",
    "len(price)  \n",
    "print(price)"
   ]
  },
  {
   "cell_type": "markdown",
   "id": "e15b7330",
   "metadata": {},
   "source": [
    "# Q8: Go to webpage https://www.amazon.in/\n",
    "#Enter “Laptop” in the search field and then click the search icon.\n",
    "#Then set CPU Type filter to “Intel Core i7”\n",
    "#After setting the filters scrape first 10 laptops data. You have to scrape 3 attributesfor each laptop:\n",
    "#1. Title\n",
    "#2. Ratings\n",
    "#3. Price"
   ]
  },
  {
   "cell_type": "code",
   "execution_count": 2,
   "id": "60d63abc",
   "metadata": {},
   "outputs": [],
   "source": [
    "#connecting to web drivers\n",
    "driver = webdriver.Chrome(r'C:\\Users\\ASUS\\Downloads\\chromedriver_win32\\chromedriver.exe')"
   ]
  },
  {
   "cell_type": "code",
   "execution_count": 3,
   "id": "75f0556a",
   "metadata": {},
   "outputs": [],
   "source": [
    "#opening website in automated chrome window\n",
    "url = 'https://www.amazon.in/'\n",
    "driver.get(url)"
   ]
  },
  {
   "cell_type": "code",
   "execution_count": 4,
   "id": "7cc0fb23",
   "metadata": {},
   "outputs": [],
   "source": [
    "#finding web element for search job bar\n",
    "search_laptop = driver.find_element(By.ID,\"twotabsearchtextbox\")\n",
    "search_laptop.send_keys(\"Laptop\")\n"
   ]
  },
  {
   "cell_type": "code",
   "execution_count": 5,
   "id": "ec3ff0cb",
   "metadata": {},
   "outputs": [],
   "source": [
    "search_btn = driver.find_element(By.ID,\"nav-search-submit-button\")\n",
    "search_btn.click()"
   ]
  },
  {
   "cell_type": "code",
   "execution_count": 7,
   "id": "aa735dad",
   "metadata": {},
   "outputs": [],
   "source": [
    "filter_cu = driver.find_elements(By.XPATH,'/html/body/div[1]/div[2]/div[1]/div[2]/div/div[3]/span/div[1]/div/div/div[6]/ul[5]/li[13]/span/a/div')\n"
   ]
  },
  {
   "cell_type": "code",
   "execution_count": 12,
   "id": "90a1d91a",
   "metadata": {},
   "outputs": [
    {
     "name": "stdout",
     "output_type": "stream",
     "text": [
      "['Acer Extensa 15 Lightweight Laptop 11th Gen Intel Core i3 Processor with 15.6\" (39.6 cms) Full HD Display- (8 GB RAM/256GB SSD/Windows 11 Home/Intel UHD Graphics /1.7Kg/Black) EX215-54', 'Acer Aspire 3 Intel Core i5 12th Generation (8GB/512 GB SSD/Windows 11 Home/MS Office/1.7 Kg/Silver) A315-59 with 15.6-inch (39.6 cms) Full HD Laptop', '(Renewed) Dell Latitude E5470 Intel Core i5 6th Gen.6200u Processor 14.1 Inches HD Screen Notebook Computer (8 GB Ram & 256 GB SSD, Windows 10 Pro, 1.71Kg)', 'HP 15s-Ryzen 3 3250U 8GB SDRAM/256GB SSD 15.6inch(39.6cm) HD, Micro-Edge Laptop/AMD Radeon Graphics/Dual Speakers/Win 11 Home/MS Office/Fast Charge/Jet Black/1.69Kg, 15s-ey1508AU', 'Lenovo IdeaPad Slim 3 Intel Celeron N4020 4th Gen 15.6\" (39.62cm) HD Thin & Light Laptop (8GB/256GB SSD/Windows 11/Office 2021/2Yr Warranty/3months Game Pass/Platinum Grey/1.7Kg), 81WQ00MQIN', 'ASUS VivoBook 15 (2021), 15.6-inch (39.62 cm) HD, Dual Core Intel Celeron N4020, Thin and Light Laptop (4GB RAM/256GB SSD/Integrated Graphics/Windows 11 Home/Transparent Silver/1.8 Kg), X515MA-BR011W', \"Lenovo IdeaPad Slim 1 Intel Celeron N4020 4th Gen 11.6'' (29.46cm) HD Thin & Light Laptop (4GB/256GB SSD/Windows 11/Office 2021/3months Game Pass/Platinum Grey/1.2Kg), 81VT009UIN\", 'ASUS VivoBook 14 (2021), 14-inch (35.56 cm) HD, Intel Core i3-1005G1 10th Gen, Thin and Light Laptop (8GB/1TB HDD/Windows 11/Integrated Graphics/Grey/1.6 kg), X415JA-BV301W', 'Lenovo E41-55 AMD 14-inch (35.56cm) HD Thin and Light Laptop (AMD Athlon Pro 3045B / 8GB RAM/ 1TB HDD/Windows 11 /Integrated AMD Radeon Graphics/Iron Grey/ 1.59 kg)', '(Renewed) DELL Latitude 5490 Core i5 8th Gen Laptop, 16 GB RAM, 512GB SSD, Intel HD Graphics, 14 inch (36.83 cms) HD Screen, Windows 11 (Upgraded), MS Office, Black, Slim']\n"
     ]
    }
   ],
   "source": [
    "laptop_titles =[]\n",
    "title_tags = driver.find_elements(By.XPATH,\"//h2[@class='a-size-mini a-spacing-none a-color-base s-line-clamp-2']\" )\n",
    "for i in title_tags [0:10]:\n",
    "    laptop_titles.append(i.text)\n",
    "len(laptop_titles) \n",
    "print(laptop_titles)"
   ]
  },
  {
   "cell_type": "code",
   "execution_count": 11,
   "id": "341d2e77",
   "metadata": {},
   "outputs": [
    {
     "name": "stdout",
     "output_type": "stream",
     "text": [
      "['', '', '', '', '', '', '', '', '', '']\n"
     ]
    }
   ],
   "source": [
    "ratings =[]\n",
    "rating_stars = driver.find_elements(By.XPATH,'//span[@class=\"a-icon-alt\"]')\n",
    "for i in rating_stars[0:10] :\n",
    "    ratings.append(i.text)\n",
    "len(ratings)\n",
    "print(ratings)"
   ]
  },
  {
   "cell_type": "code",
   "execution_count": 10,
   "id": "485e4db8",
   "metadata": {},
   "outputs": [
    {
     "data": {
      "text/plain": [
       "10"
      ]
     },
     "execution_count": 10,
     "metadata": {},
     "output_type": "execute_result"
    }
   ],
   "source": [
    "#extracting price\n",
    "price =[]\n",
    "price_details = driver.find_elements(By.XPATH,'//span[@class=\"a-price\"]')\n",
    "for i in price_details [0:10]:\n",
    "    price.append(i.text)\n",
    "len(price)  "
   ]
  },
  {
   "cell_type": "code",
   "execution_count": 13,
   "id": "3cc650ee",
   "metadata": {},
   "outputs": [
    {
     "data": {
      "text/html": [
       "<div>\n",
       "<style scoped>\n",
       "    .dataframe tbody tr th:only-of-type {\n",
       "        vertical-align: middle;\n",
       "    }\n",
       "\n",
       "    .dataframe tbody tr th {\n",
       "        vertical-align: top;\n",
       "    }\n",
       "\n",
       "    .dataframe thead th {\n",
       "        text-align: right;\n",
       "    }\n",
       "</style>\n",
       "<table border=\"1\" class=\"dataframe\">\n",
       "  <thead>\n",
       "    <tr style=\"text-align: right;\">\n",
       "      <th></th>\n",
       "      <th>Titles</th>\n",
       "      <th>Ratings</th>\n",
       "      <th>Price</th>\n",
       "    </tr>\n",
       "  </thead>\n",
       "  <tbody>\n",
       "    <tr>\n",
       "      <th>0</th>\n",
       "      <td>Acer Extensa 15 Lightweight Laptop 11th Gen In...</td>\n",
       "      <td></td>\n",
       "      <td>₹31,921</td>\n",
       "    </tr>\n",
       "    <tr>\n",
       "      <th>1</th>\n",
       "      <td>Acer Aspire 3 Intel Core i5 12th Generation (8...</td>\n",
       "      <td></td>\n",
       "      <td>₹56,990</td>\n",
       "    </tr>\n",
       "    <tr>\n",
       "      <th>2</th>\n",
       "      <td>(Renewed) Dell Latitude E5470 Intel Core i5 6t...</td>\n",
       "      <td></td>\n",
       "      <td>₹19,599</td>\n",
       "    </tr>\n",
       "    <tr>\n",
       "      <th>3</th>\n",
       "      <td>HP 15s-Ryzen 3 3250U 8GB SDRAM/256GB SSD 15.6i...</td>\n",
       "      <td></td>\n",
       "      <td>₹29,740</td>\n",
       "    </tr>\n",
       "    <tr>\n",
       "      <th>4</th>\n",
       "      <td>Lenovo IdeaPad Slim 3 Intel Celeron N4020 4th ...</td>\n",
       "      <td></td>\n",
       "      <td>₹28,129</td>\n",
       "    </tr>\n",
       "    <tr>\n",
       "      <th>5</th>\n",
       "      <td>ASUS VivoBook 15 (2021), 15.6-inch (39.62 cm) ...</td>\n",
       "      <td></td>\n",
       "      <td>₹699</td>\n",
       "    </tr>\n",
       "    <tr>\n",
       "      <th>6</th>\n",
       "      <td>Lenovo IdeaPad Slim 1 Intel Celeron N4020 4th ...</td>\n",
       "      <td></td>\n",
       "      <td>₹698</td>\n",
       "    </tr>\n",
       "    <tr>\n",
       "      <th>7</th>\n",
       "      <td>ASUS VivoBook 14 (2021), 14-inch (35.56 cm) HD...</td>\n",
       "      <td></td>\n",
       "      <td>₹697</td>\n",
       "    </tr>\n",
       "    <tr>\n",
       "      <th>8</th>\n",
       "      <td>Lenovo E41-55 AMD 14-inch (35.56cm) HD Thin an...</td>\n",
       "      <td></td>\n",
       "      <td></td>\n",
       "    </tr>\n",
       "    <tr>\n",
       "      <th>9</th>\n",
       "      <td>(Renewed) DELL Latitude 5490 Core i5 8th Gen L...</td>\n",
       "      <td></td>\n",
       "      <td></td>\n",
       "    </tr>\n",
       "  </tbody>\n",
       "</table>\n",
       "</div>"
      ],
      "text/plain": [
       "                                              Titles Ratings    Price\n",
       "0  Acer Extensa 15 Lightweight Laptop 11th Gen In...          ₹31,921\n",
       "1  Acer Aspire 3 Intel Core i5 12th Generation (8...          ₹56,990\n",
       "2  (Renewed) Dell Latitude E5470 Intel Core i5 6t...          ₹19,599\n",
       "3  HP 15s-Ryzen 3 3250U 8GB SDRAM/256GB SSD 15.6i...          ₹29,740\n",
       "4  Lenovo IdeaPad Slim 3 Intel Celeron N4020 4th ...          ₹28,129\n",
       "5  ASUS VivoBook 15 (2021), 15.6-inch (39.62 cm) ...             ₹699\n",
       "6  Lenovo IdeaPad Slim 1 Intel Celeron N4020 4th ...             ₹698\n",
       "7  ASUS VivoBook 14 (2021), 14-inch (35.56 cm) HD...             ₹697\n",
       "8  Lenovo E41-55 AMD 14-inch (35.56cm) HD Thin an...                 \n",
       "9  (Renewed) DELL Latitude 5490 Core i5 8th Gen L...                 "
      ]
     },
     "execution_count": 13,
     "metadata": {},
     "output_type": "execute_result"
    }
   ],
   "source": [
    "#now let's create a dataframe for first 10 scrapped data \n",
    "laptops = pd.DataFrame()\n",
    "laptops['Titles'] = laptop_titles\n",
    "laptops['Ratings'] = ratings\n",
    "laptops['Price'] = price\n",
    "laptops"
   ]
  },
  {
   "cell_type": "markdown",
   "id": "0e5d32ea",
   "metadata": {},
   "source": [
    "# Q9: Write a python program to scrape data for Top 1000 Quotes of All Time.\n",
    "The above task will be done in following steps:\n",
    "1.First get the webpage https://www.azquotes.com/\n",
    "2. Click on Top Quotes\n",
    "3. Than scrap a) Quote b) Author c) Type Of Quote"
   ]
  },
  {
   "cell_type": "code",
   "execution_count": 11,
   "id": "a093ff4f",
   "metadata": {},
   "outputs": [],
   "source": [
    "#connecting to web drivers\n",
    "driver = webdriver.Chrome(r'C:\\Users\\ASUS\\Downloads\\chromedriver_win32\\chromedriver.exe')"
   ]
  },
  {
   "cell_type": "code",
   "execution_count": 12,
   "id": "c86c0a16",
   "metadata": {},
   "outputs": [],
   "source": [
    "#opening website in automated chrome window\n",
    "url = ' https://www.azquotes.com/'\n",
    "driver.get(url)"
   ]
  },
  {
   "cell_type": "code",
   "execution_count": 15,
   "id": "30474486",
   "metadata": {},
   "outputs": [],
   "source": [
    "search_btn = driver.find_element(By.XPATH,'//a[@href=\"/top_quotes.html\"]')\n",
    "search_btn.click()"
   ]
  },
  {
   "cell_type": "code",
   "execution_count": 37,
   "id": "00ad7dc8",
   "metadata": {},
   "outputs": [
    {
     "data": {
      "text/plain": [
       "100"
      ]
     },
     "execution_count": 37,
     "metadata": {},
     "output_type": "execute_result"
    }
   ],
   "source": [
    "quote_titles =[]\n",
    "title_tags = driver.find_elements(By.XPATH,\"//a[@class='title']\" )\n",
    "for i in title_tags :\n",
    "    quote_titles.append(i.text)\n",
    "len(quote_titles) "
   ]
  },
  {
   "cell_type": "code",
   "execution_count": 38,
   "id": "0ba1fb0c",
   "metadata": {},
   "outputs": [
    {
     "data": {
      "text/plain": [
       "100"
      ]
     },
     "execution_count": 38,
     "metadata": {},
     "output_type": "execute_result"
    }
   ],
   "source": [
    "quote_author =[]\n",
    "author_tags = driver.find_elements(By.XPATH,\"//div[@class='author']\" )\n",
    "for i in author_tags :\n",
    "    quote_author.append(i.text)\n",
    "len(quote_author)"
   ]
  },
  {
   "cell_type": "code",
   "execution_count": 40,
   "id": "385d4cc8",
   "metadata": {},
   "outputs": [
    {
     "data": {
      "text/plain": [
       "100"
      ]
     },
     "execution_count": 40,
     "metadata": {},
     "output_type": "execute_result"
    }
   ],
   "source": [
    "quote_type =[]\n",
    "type_tags = driver.find_elements(By.XPATH,\"//div[@class='tags']\" )\n",
    "for i in type_tags :\n",
    "    quote_type.append(i.text)\n",
    "len(quote_type)"
   ]
  },
  {
   "cell_type": "code",
   "execution_count": 42,
   "id": "cb3f7bc1",
   "metadata": {},
   "outputs": [],
   "source": [
    "#clicking on next button \n",
    "next_button=driver.find_element(By.XPATH,'//li[@class=\"next\"]')\n",
    "next_button.click()"
   ]
  },
  {
   "cell_type": "code",
   "execution_count": 44,
   "id": "be4f146d",
   "metadata": {},
   "outputs": [
    {
     "data": {
      "text/plain": [
       "100"
      ]
     },
     "execution_count": 44,
     "metadata": {},
     "output_type": "execute_result"
    }
   ],
   "source": [
    "quote_titles =[]\n",
    "title_tags = driver.find_elements(By.XPATH,\"//a[@class='title']\" )\n",
    "for i in title_tags :\n",
    "    quote_titles.append(i.text)\n",
    "len(quote_titles)"
   ]
  },
  {
   "cell_type": "code",
   "execution_count": 45,
   "id": "37f26ada",
   "metadata": {},
   "outputs": [
    {
     "data": {
      "text/plain": [
       "100"
      ]
     },
     "execution_count": 45,
     "metadata": {},
     "output_type": "execute_result"
    }
   ],
   "source": [
    "quote_author =[]\n",
    "author_tags = driver.find_elements(By.XPATH,\"//div[@class='author']\" )\n",
    "for i in author_tags :\n",
    "    quote_author.append(i.text)\n",
    "len(quote_author)"
   ]
  },
  {
   "cell_type": "code",
   "execution_count": 46,
   "id": "9b6ec3c7",
   "metadata": {},
   "outputs": [
    {
     "data": {
      "text/plain": [
       "100"
      ]
     },
     "execution_count": 46,
     "metadata": {},
     "output_type": "execute_result"
    }
   ],
   "source": [
    "quote_type =[]\n",
    "type_tags = driver.find_elements(By.XPATH,\"//div[@class='tags']\" )\n",
    "for i in type_tags :\n",
    "    quote_type.append(i.text)\n",
    "len(quote_type)"
   ]
  },
  {
   "cell_type": "markdown",
   "id": "364bf7ac",
   "metadata": {},
   "source": [
    "# Q10: Write s python program to display list of respected former Prime Ministers of India(i.e. Name, Born-Dead, Term of office, Remarks) from https://www.jagranjosh.com/."
   ]
  },
  {
   "cell_type": "code",
   "execution_count": 27,
   "id": "238013b4",
   "metadata": {},
   "outputs": [],
   "source": [
    "#connecting to web drivers\n",
    "driver = webdriver.Chrome(r'C:\\Users\\ASUS\\Downloads\\chromedriver_win32\\chromedriver.exe')"
   ]
  },
  {
   "cell_type": "code",
   "execution_count": 28,
   "id": "7d5c7e40",
   "metadata": {},
   "outputs": [],
   "source": [
    "#opening website in automated chrome window\n",
    "url = 'https://www.jagranjosh.com/ '\n",
    "driver.get(url)"
   ]
  },
  {
   "cell_type": "code",
   "execution_count": 29,
   "id": "7dee162f",
   "metadata": {},
   "outputs": [],
   "source": [
    "search_btn = driver.find_element(By.XPATH,'//body[1]/div[1]/div[1]/div[1]/div[1]/div[1]/div[6]/div[1]/div[1]/header[1]/div[3]/ul[1]/li[9]/a[1]')\n",
    "search_btn.click()"
   ]
  },
  {
   "cell_type": "code",
   "execution_count": 30,
   "id": "dbdd0e8e",
   "metadata": {},
   "outputs": [],
   "source": [
    "search_btn = driver.find_element(By.XPATH,'//body[1]/div[1]/div[1]/div[1]/div[2]/div[1]/div[10]/div[1]/div[1]/ul[1]/li[2]/a[1]')\n",
    "search_btn.click()"
   ]
  },
  {
   "cell_type": "code",
   "execution_count": 31,
   "id": "519411e4",
   "metadata": {},
   "outputs": [
    {
     "name": "stdout",
     "output_type": "stream",
     "text": [
      "['Jawahar Lal Nehru']\n"
     ]
    }
   ],
   "source": [
    "prime_minis =[]\n",
    "first_pm = driver.find_elements(By.XPATH,\"/html/body/div[1]/div[2]/div/div[2]/div/div[1]/div/div/div/div[5]/span/div[2]/table/tbody/tr[2]/td[2]/p/strong/a\")\n",
    "for i in first_pm :\n",
    "    prime_minis.append(i.text)\n",
    "\n",
    "print(prime_minis)"
   ]
  },
  {
   "cell_type": "code",
   "execution_count": 34,
   "id": "ee43585f",
   "metadata": {},
   "outputs": [
    {
     "name": "stdout",
     "output_type": "stream",
     "text": [
      "['List of all Prime Ministers of India: Narendra Modi is the current and 14th Prime Minister of India.', 'READ |', 'List of Movies to Learn English: Watch These English Movies To Learn The Language Quickly!', 'Yogi Adityanath Cabinet 2.0: Check List of Ministers, Ministers of State (Independent Charge), and Ministers of State', 'List of all the Prime Ministers of India from 1947-2021', 'S.N.', 'Name', 'Born-Dead', 'Term of office', 'Remark', '1.', 'Jawahar Lal Nehru', '2.', '3.', '4. ', '5.', 'Indira Gandhi', '6.', '7.', '8.', 'Indira Gandhi', '9.', 'Rajiv Gandhi', '10.', '11.', 'Chandra Shekhar', '12.', '13.', 'Atal Bihari Vajpayee', '14.', '15.', '16.', 'Atal Bihari Vajpayee', '17.', 'Manmohan Singh', '18.', 'Narendra Modi', 'IQ Test:', 'Can You Spot 5 Differences Between These Pictures Within A Minute?', '', 'What You See in First 6 Seconds Reveals If You Can Stay In Long-Distance Relationships', 'Article 75 of the Indian Constitution', 'Prime Minister', 'who shall be appointed by the President of India. Prime Minister is the leader of the Cabinet Ministers.', 'President', 'Article 78 of the Indian Constitution', 'duties of the Prime Minister of India.', 'Prime Minister of India determines the dates of its meetings and programmes for the Parliament session.', 'when the House has to be prorogued or dissolved.', 'makes the announcement of principal government policies and answers questions.', 'he allocates and reshuffles various portfolios among Ministers', 'presides over the meeting of the Council of Ministers and influences their decisions.', 'Also Read the following:', 'List of all Presidents of India', 'List of Current Chief Ministers in India', 'List of International Awards received by Narendra Modi', 'List of Chief Ministers of Karnataka (1947-2021)']\n"
     ]
    }
   ],
   "source": [
    "prime_minis=[]\n",
    "second_pm = driver.find_elements(By.TAG_NAME,\"strong\")\n",
    "for i in second_pm:\n",
    "    prime_minis.append(i.text)\n",
    "print(prime_minis)\n",
    "#not able to find relative xpath "
   ]
  },
  {
   "cell_type": "code",
   "execution_count": 10,
   "id": "368b2516",
   "metadata": {},
   "outputs": [],
   "source": [
    "\n",
    "birth_death=driver.find_element(By.XPATH,\"//body[1]/div[1]/div[2]/div[1]/div[2]/div[1]/div[1]/div[1]/div[1]/div[1]/div[5]/span[1]/div[2]/table[1]/tbody[1]/tr[2]/td[3]/p[1]\")\n",
    "print()"
   ]
  },
  {
   "cell_type": "markdown",
   "id": "74da5835",
   "metadata": {},
   "source": [
    "# Q11: Write s python program to display list of 50 Most expensive cars in the world (i.e. Company name, Model name and Price) from https://www.motor1.com/\n"
   ]
  },
  {
   "cell_type": "code",
   "execution_count": 2,
   "id": "5e997bbe",
   "metadata": {},
   "outputs": [],
   "source": [
    "#connecting to web drivers\n",
    "driver = webdriver.Chrome(r'C:\\Users\\ASUS\\Downloads\\chromedriver_win32\\chromedriver.exe')"
   ]
  },
  {
   "cell_type": "code",
   "execution_count": 3,
   "id": "366c625c",
   "metadata": {},
   "outputs": [],
   "source": [
    "#opening website in automated chrome window\n",
    "url = 'https://www.motor1.com/ '\n",
    "driver.get(url)"
   ]
  },
  {
   "cell_type": "code",
   "execution_count": 4,
   "id": "98913f2a",
   "metadata": {},
   "outputs": [],
   "source": [
    "#maximizing automated windows\n",
    "driver.maximize_window()"
   ]
  },
  {
   "cell_type": "code",
   "execution_count": 5,
   "id": "a61ccded",
   "metadata": {},
   "outputs": [],
   "source": [
    "search_btn = driver.find_element(By.XPATH,'//div[@class=\"m1-hamburger-button\"]')\n",
    "search_btn.click()"
   ]
  },
  {
   "cell_type": "code",
   "execution_count": 31,
   "id": "1617f630",
   "metadata": {},
   "outputs": [],
   "source": [
    "search_btn1 = driver.find_elements(By.XPATH,'//li[@ class=\"m1-navigation-main__animated-block left show\"]')\n",
    "\n"
   ]
  },
  {
   "cell_type": "code",
   "execution_count": 32,
   "id": "f9de5612",
   "metadata": {},
   "outputs": [],
   "source": [
    "get_cars=driver.find_elements(By.XPATH,'//a[@href=\"/features/308149/most-expensive-new-cars-ever/\"]')\n"
   ]
  },
  {
   "cell_type": "code",
   "execution_count": 10,
   "id": "def555b8",
   "metadata": {},
   "outputs": [
    {
     "name": "stdout",
     "output_type": "stream",
     "text": [
      "['Drako GTE', 'De Tomaso P72', 'Ferrari LaFerrari', 'Pagani Huayra', 'McLaren Elva', 'Czinger 21C', 'Ferrari Monza', 'Gordon Murray T.33', 'Koenigsegg Gemera', 'Zenvo TSR-S', 'Hennessey Venom F5', 'Bentley Bacalar', 'Hispano Suiza Carmen Boulogne', 'Bentley Mulliner Batur', 'Deus Vayanne', 'SSC Tuatara', 'Lotus Evija', 'Aston Martin Vulcan', 'Delage D12', 'McLaren Speedtail', 'Rimac Nevera', 'Pagani Utopia', 'Pininfarina Battista', 'Ferrari FXX K Evo', 'Gordon Murray T.50', 'Lamborghini Countach', 'Mercedes-AMG Project One', 'Aston Martin Victor', 'Hennessey Venom F5 Roadster', 'Koenigsegg Jesko', 'Aston Martin Valkyrie', 'W Motors Lykan Hypersport', 'McLaren Solus', 'Pagani Huayra Roadster BC', 'Bugatti Chiron Pur Sport', 'Lamborghini Sian', 'Koenigsegg CC850', 'Bugatti Chiron Super Sport 300+', 'Lamborghini Veneno', 'Bugatti Bolide', 'Bugatti Mistral', 'Pagani Huayra Imola', 'Bugatti Divo', 'SP Automotive Chaos', 'Pagani Codalunga', 'Mercedes-Maybach Exelero', 'Bugatti Centodieci', 'Rolls-Royce Sweptail', 'Bugatti La Voiture Noire', 'Rolls-Royce Boat Tail*', 'Most Expensive Cars In The World']\n"
     ]
    }
   ],
   "source": [
    "#extracting brands\n",
    "models =[]\n",
    "car_model = driver.find_elements(By.XPATH,'//h3[@class=\"subheader\"]')\n",
    "for i in car_model:\n",
    "    models.append(i.text)\n",
    "len(models) \n",
    "print(models)"
   ]
  },
  {
   "cell_type": "code",
   "execution_count": 13,
   "id": "3aec75b0",
   "metadata": {},
   "outputs": [
    {
     "name": "stdout",
     "output_type": "stream",
     "text": [
      "['Price: $1.2 Million', 'Price: $1.3 Million', 'Price: $1.4 Million', 'Price: $1.4 Million', '', 'Price: $1.7 Million', 'Price: $1.7 Million', 'Price: $1.7 Million', 'Price: $1.7 Million', 'Price: $1.7 Million', 'Price: $1.7 Million', 'Price: $1.8 Million', 'Price: $1.9 Million', 'Price: $1.9 Million', 'Price: $2.0 Million', 'Price: $2.0 Million', 'Price: $2.0 Million*', 'Price: $2.1 Million', 'Price: $2.3 Million', 'Price: $2.3 Million', 'Price: $2.3 Million', 'Price: $2.4 Million', 'Price: $2.5 Million', 'Price: $2.5 Million', 'Price: $2.6 Million', 'Price: $2.6 Million', 'Price: $2.6 Million', 'Price: $2.7 Million', 'Price: $3.0 Million', '$3.0 Million', 'Price: $3.0 Million', 'Price: $3.2 Million', 'Price: $3.4 Million', '$3.5 Million', 'Price: $3.5 Million', 'Price: $3.6 Million', 'Price: $3.6 million', 'Price: $3.7 Million', 'Price: $3.9 Million', 'Price: $4.5 Million', 'Price: $4.7 Million', 'Price: $5.0 Million', 'Price: $5.4 Million', 'Price: $5.8 Million', 'Price: $6.4 Million', 'Price: $7.4 Million', 'Price: $8.0 Million', 'Price: $9.0 Million', 'Price: $12.8 Million', 'Price: $13.4 Million', 'Price: $28.0 Million (est.)']\n"
     ]
    }
   ],
   "source": [
    "price=[]\n",
    "price_cars = driver.find_elements(By.TAG_NAME,\"strong\")\n",
    "for i in price_cars:\n",
    "    price.append(i.text)\n",
    "print(price)"
   ]
  },
  {
   "cell_type": "code",
   "execution_count": 19,
   "id": "c8dbc599",
   "metadata": {},
   "outputs": [
    {
     "data": {
      "text/html": [
       "<div>\n",
       "<style scoped>\n",
       "    .dataframe tbody tr th:only-of-type {\n",
       "        vertical-align: middle;\n",
       "    }\n",
       "\n",
       "    .dataframe tbody tr th {\n",
       "        vertical-align: top;\n",
       "    }\n",
       "\n",
       "    .dataframe thead th {\n",
       "        text-align: right;\n",
       "    }\n",
       "</style>\n",
       "<table border=\"1\" class=\"dataframe\">\n",
       "  <thead>\n",
       "    <tr style=\"text-align: right;\">\n",
       "      <th></th>\n",
       "      <th>Models</th>\n",
       "      <th>Prices</th>\n",
       "    </tr>\n",
       "  </thead>\n",
       "  <tbody>\n",
       "    <tr>\n",
       "      <th>0</th>\n",
       "      <td>Drako GTE</td>\n",
       "      <td>Price: $1.2 Million</td>\n",
       "    </tr>\n",
       "    <tr>\n",
       "      <th>1</th>\n",
       "      <td>De Tomaso P72</td>\n",
       "      <td>Price: $1.3 Million</td>\n",
       "    </tr>\n",
       "    <tr>\n",
       "      <th>2</th>\n",
       "      <td>Ferrari LaFerrari</td>\n",
       "      <td>Price: $1.4 Million</td>\n",
       "    </tr>\n",
       "    <tr>\n",
       "      <th>3</th>\n",
       "      <td>Pagani Huayra</td>\n",
       "      <td>Price: $1.4 Million</td>\n",
       "    </tr>\n",
       "    <tr>\n",
       "      <th>4</th>\n",
       "      <td>McLaren Elva</td>\n",
       "      <td></td>\n",
       "    </tr>\n",
       "    <tr>\n",
       "      <th>5</th>\n",
       "      <td>Czinger 21C</td>\n",
       "      <td>Price: $1.7 Million</td>\n",
       "    </tr>\n",
       "    <tr>\n",
       "      <th>6</th>\n",
       "      <td>Ferrari Monza</td>\n",
       "      <td>Price: $1.7 Million</td>\n",
       "    </tr>\n",
       "    <tr>\n",
       "      <th>7</th>\n",
       "      <td>Gordon Murray T.33</td>\n",
       "      <td>Price: $1.7 Million</td>\n",
       "    </tr>\n",
       "    <tr>\n",
       "      <th>8</th>\n",
       "      <td>Koenigsegg Gemera</td>\n",
       "      <td>Price: $1.7 Million</td>\n",
       "    </tr>\n",
       "    <tr>\n",
       "      <th>9</th>\n",
       "      <td>Zenvo TSR-S</td>\n",
       "      <td>Price: $1.7 Million</td>\n",
       "    </tr>\n",
       "    <tr>\n",
       "      <th>10</th>\n",
       "      <td>Hennessey Venom F5</td>\n",
       "      <td>Price: $1.7 Million</td>\n",
       "    </tr>\n",
       "    <tr>\n",
       "      <th>11</th>\n",
       "      <td>Bentley Bacalar</td>\n",
       "      <td>Price: $1.8 Million</td>\n",
       "    </tr>\n",
       "    <tr>\n",
       "      <th>12</th>\n",
       "      <td>Hispano Suiza Carmen Boulogne</td>\n",
       "      <td>Price: $1.9 Million</td>\n",
       "    </tr>\n",
       "    <tr>\n",
       "      <th>13</th>\n",
       "      <td>Bentley Mulliner Batur</td>\n",
       "      <td>Price: $1.9 Million</td>\n",
       "    </tr>\n",
       "    <tr>\n",
       "      <th>14</th>\n",
       "      <td>Deus Vayanne</td>\n",
       "      <td>Price: $2.0 Million</td>\n",
       "    </tr>\n",
       "    <tr>\n",
       "      <th>15</th>\n",
       "      <td>SSC Tuatara</td>\n",
       "      <td>Price: $2.0 Million</td>\n",
       "    </tr>\n",
       "    <tr>\n",
       "      <th>16</th>\n",
       "      <td>Lotus Evija</td>\n",
       "      <td>Price: $2.0 Million*</td>\n",
       "    </tr>\n",
       "    <tr>\n",
       "      <th>17</th>\n",
       "      <td>Aston Martin Vulcan</td>\n",
       "      <td>Price: $2.1 Million</td>\n",
       "    </tr>\n",
       "    <tr>\n",
       "      <th>18</th>\n",
       "      <td>Delage D12</td>\n",
       "      <td>Price: $2.3 Million</td>\n",
       "    </tr>\n",
       "    <tr>\n",
       "      <th>19</th>\n",
       "      <td>McLaren Speedtail</td>\n",
       "      <td>Price: $2.3 Million</td>\n",
       "    </tr>\n",
       "    <tr>\n",
       "      <th>20</th>\n",
       "      <td>Rimac Nevera</td>\n",
       "      <td>Price: $2.3 Million</td>\n",
       "    </tr>\n",
       "    <tr>\n",
       "      <th>21</th>\n",
       "      <td>Pagani Utopia</td>\n",
       "      <td>Price: $2.4 Million</td>\n",
       "    </tr>\n",
       "    <tr>\n",
       "      <th>22</th>\n",
       "      <td>Pininfarina Battista</td>\n",
       "      <td>Price: $2.5 Million</td>\n",
       "    </tr>\n",
       "    <tr>\n",
       "      <th>23</th>\n",
       "      <td>Ferrari FXX K Evo</td>\n",
       "      <td>Price: $2.5 Million</td>\n",
       "    </tr>\n",
       "    <tr>\n",
       "      <th>24</th>\n",
       "      <td>Gordon Murray T.50</td>\n",
       "      <td>Price: $2.6 Million</td>\n",
       "    </tr>\n",
       "    <tr>\n",
       "      <th>25</th>\n",
       "      <td>Lamborghini Countach</td>\n",
       "      <td>Price: $2.6 Million</td>\n",
       "    </tr>\n",
       "    <tr>\n",
       "      <th>26</th>\n",
       "      <td>Mercedes-AMG Project One</td>\n",
       "      <td>Price: $2.6 Million</td>\n",
       "    </tr>\n",
       "    <tr>\n",
       "      <th>27</th>\n",
       "      <td>Aston Martin Victor</td>\n",
       "      <td>Price: $2.7 Million</td>\n",
       "    </tr>\n",
       "    <tr>\n",
       "      <th>28</th>\n",
       "      <td>Hennessey Venom F5 Roadster</td>\n",
       "      <td>Price: $3.0 Million</td>\n",
       "    </tr>\n",
       "    <tr>\n",
       "      <th>29</th>\n",
       "      <td>Koenigsegg Jesko</td>\n",
       "      <td>$3.0 Million</td>\n",
       "    </tr>\n",
       "    <tr>\n",
       "      <th>30</th>\n",
       "      <td>Aston Martin Valkyrie</td>\n",
       "      <td>Price: $3.0 Million</td>\n",
       "    </tr>\n",
       "    <tr>\n",
       "      <th>31</th>\n",
       "      <td>W Motors Lykan Hypersport</td>\n",
       "      <td>Price: $3.2 Million</td>\n",
       "    </tr>\n",
       "    <tr>\n",
       "      <th>32</th>\n",
       "      <td>McLaren Solus</td>\n",
       "      <td>Price: $3.4 Million</td>\n",
       "    </tr>\n",
       "    <tr>\n",
       "      <th>33</th>\n",
       "      <td>Pagani Huayra Roadster BC</td>\n",
       "      <td>$3.5 Million</td>\n",
       "    </tr>\n",
       "    <tr>\n",
       "      <th>34</th>\n",
       "      <td>Bugatti Chiron Pur Sport</td>\n",
       "      <td>Price: $3.5 Million</td>\n",
       "    </tr>\n",
       "    <tr>\n",
       "      <th>35</th>\n",
       "      <td>Lamborghini Sian</td>\n",
       "      <td>Price: $3.6 Million</td>\n",
       "    </tr>\n",
       "    <tr>\n",
       "      <th>36</th>\n",
       "      <td>Koenigsegg CC850</td>\n",
       "      <td>Price: $3.6 million</td>\n",
       "    </tr>\n",
       "    <tr>\n",
       "      <th>37</th>\n",
       "      <td>Bugatti Chiron Super Sport 300+</td>\n",
       "      <td>Price: $3.7 Million</td>\n",
       "    </tr>\n",
       "    <tr>\n",
       "      <th>38</th>\n",
       "      <td>Lamborghini Veneno</td>\n",
       "      <td>Price: $3.9 Million</td>\n",
       "    </tr>\n",
       "    <tr>\n",
       "      <th>39</th>\n",
       "      <td>Bugatti Bolide</td>\n",
       "      <td>Price: $4.5 Million</td>\n",
       "    </tr>\n",
       "    <tr>\n",
       "      <th>40</th>\n",
       "      <td>Bugatti Mistral</td>\n",
       "      <td>Price: $4.7 Million</td>\n",
       "    </tr>\n",
       "    <tr>\n",
       "      <th>41</th>\n",
       "      <td>Pagani Huayra Imola</td>\n",
       "      <td>Price: $5.0 Million</td>\n",
       "    </tr>\n",
       "    <tr>\n",
       "      <th>42</th>\n",
       "      <td>Bugatti Divo</td>\n",
       "      <td>Price: $5.4 Million</td>\n",
       "    </tr>\n",
       "    <tr>\n",
       "      <th>43</th>\n",
       "      <td>SP Automotive Chaos</td>\n",
       "      <td>Price: $5.8 Million</td>\n",
       "    </tr>\n",
       "    <tr>\n",
       "      <th>44</th>\n",
       "      <td>Pagani Codalunga</td>\n",
       "      <td>Price: $6.4 Million</td>\n",
       "    </tr>\n",
       "    <tr>\n",
       "      <th>45</th>\n",
       "      <td>Mercedes-Maybach Exelero</td>\n",
       "      <td>Price: $7.4 Million</td>\n",
       "    </tr>\n",
       "    <tr>\n",
       "      <th>46</th>\n",
       "      <td>Bugatti Centodieci</td>\n",
       "      <td>Price: $8.0 Million</td>\n",
       "    </tr>\n",
       "    <tr>\n",
       "      <th>47</th>\n",
       "      <td>Rolls-Royce Sweptail</td>\n",
       "      <td>Price: $9.0 Million</td>\n",
       "    </tr>\n",
       "    <tr>\n",
       "      <th>48</th>\n",
       "      <td>Bugatti La Voiture Noire</td>\n",
       "      <td>Price: $12.8 Million</td>\n",
       "    </tr>\n",
       "    <tr>\n",
       "      <th>49</th>\n",
       "      <td>Rolls-Royce Boat Tail*</td>\n",
       "      <td>Price: $13.4 Million</td>\n",
       "    </tr>\n",
       "    <tr>\n",
       "      <th>50</th>\n",
       "      <td>Most Expensive Cars In The World</td>\n",
       "      <td>Price: $28.0 Million (est.)</td>\n",
       "    </tr>\n",
       "  </tbody>\n",
       "</table>\n",
       "</div>"
      ],
      "text/plain": [
       "                              Models                       Prices\n",
       "0                          Drako GTE          Price: $1.2 Million\n",
       "1                      De Tomaso P72          Price: $1.3 Million\n",
       "2                  Ferrari LaFerrari          Price: $1.4 Million\n",
       "3                      Pagani Huayra          Price: $1.4 Million\n",
       "4                       McLaren Elva                             \n",
       "5                        Czinger 21C          Price: $1.7 Million\n",
       "6                      Ferrari Monza          Price: $1.7 Million\n",
       "7                 Gordon Murray T.33          Price: $1.7 Million\n",
       "8                  Koenigsegg Gemera          Price: $1.7 Million\n",
       "9                        Zenvo TSR-S          Price: $1.7 Million\n",
       "10                Hennessey Venom F5          Price: $1.7 Million\n",
       "11                   Bentley Bacalar          Price: $1.8 Million\n",
       "12     Hispano Suiza Carmen Boulogne          Price: $1.9 Million\n",
       "13            Bentley Mulliner Batur          Price: $1.9 Million\n",
       "14                      Deus Vayanne          Price: $2.0 Million\n",
       "15                       SSC Tuatara          Price: $2.0 Million\n",
       "16                       Lotus Evija         Price: $2.0 Million*\n",
       "17               Aston Martin Vulcan          Price: $2.1 Million\n",
       "18                        Delage D12          Price: $2.3 Million\n",
       "19                 McLaren Speedtail          Price: $2.3 Million\n",
       "20                      Rimac Nevera          Price: $2.3 Million\n",
       "21                     Pagani Utopia          Price: $2.4 Million\n",
       "22              Pininfarina Battista          Price: $2.5 Million\n",
       "23                 Ferrari FXX K Evo          Price: $2.5 Million\n",
       "24                Gordon Murray T.50          Price: $2.6 Million\n",
       "25              Lamborghini Countach          Price: $2.6 Million\n",
       "26          Mercedes-AMG Project One          Price: $2.6 Million\n",
       "27               Aston Martin Victor          Price: $2.7 Million\n",
       "28       Hennessey Venom F5 Roadster          Price: $3.0 Million\n",
       "29                  Koenigsegg Jesko                 $3.0 Million\n",
       "30             Aston Martin Valkyrie          Price: $3.0 Million\n",
       "31         W Motors Lykan Hypersport          Price: $3.2 Million\n",
       "32                     McLaren Solus          Price: $3.4 Million\n",
       "33         Pagani Huayra Roadster BC                 $3.5 Million\n",
       "34          Bugatti Chiron Pur Sport          Price: $3.5 Million\n",
       "35                  Lamborghini Sian          Price: $3.6 Million\n",
       "36                  Koenigsegg CC850          Price: $3.6 million\n",
       "37   Bugatti Chiron Super Sport 300+          Price: $3.7 Million\n",
       "38                Lamborghini Veneno          Price: $3.9 Million\n",
       "39                    Bugatti Bolide          Price: $4.5 Million\n",
       "40                   Bugatti Mistral          Price: $4.7 Million\n",
       "41               Pagani Huayra Imola          Price: $5.0 Million\n",
       "42                      Bugatti Divo          Price: $5.4 Million\n",
       "43               SP Automotive Chaos          Price: $5.8 Million\n",
       "44                  Pagani Codalunga          Price: $6.4 Million\n",
       "45          Mercedes-Maybach Exelero          Price: $7.4 Million\n",
       "46                Bugatti Centodieci          Price: $8.0 Million\n",
       "47              Rolls-Royce Sweptail          Price: $9.0 Million\n",
       "48          Bugatti La Voiture Noire         Price: $12.8 Million\n",
       "49            Rolls-Royce Boat Tail*         Price: $13.4 Million\n",
       "50  Most Expensive Cars In The World  Price: $28.0 Million (est.)"
      ]
     },
     "execution_count": 19,
     "metadata": {},
     "output_type": "execute_result"
    }
   ],
   "source": [
    "#now let's create a dataframe for first 50 scrapped data \n",
    "cars = pd.DataFrame()\n",
    "cars['Models'] = models[0:51]\n",
    "cars['Prices'] = price[0:51]\n",
    "cars"
   ]
  },
  {
   "cell_type": "code",
   "execution_count": null,
   "id": "09dc926b",
   "metadata": {},
   "outputs": [],
   "source": []
  }
 ],
 "metadata": {
  "kernelspec": {
   "display_name": "Python 3 (ipykernel)",
   "language": "python",
   "name": "python3"
  },
  "language_info": {
   "codemirror_mode": {
    "name": "ipython",
    "version": 3
   },
   "file_extension": ".py",
   "mimetype": "text/x-python",
   "name": "python",
   "nbconvert_exporter": "python",
   "pygments_lexer": "ipython3",
   "version": "3.9.12"
  }
 },
 "nbformat": 4,
 "nbformat_minor": 5
}
